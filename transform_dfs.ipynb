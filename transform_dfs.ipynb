{
 "cells": [
  {
   "cell_type": "code",
   "execution_count": 8,
   "metadata": {},
   "outputs": [
    {
     "name": "stdout",
     "output_type": "stream",
     "text": [
      "opening link: \n",
      "https://econdata.s3-us-west-2.amazonaws.com/Reports/Core/RDC_Inventory_Core_Metrics_Zip.csv\n"
     ]
    },
    {
     "name": "stderr",
     "output_type": "stream",
     "text": [
      "/var/folders/c5/lp6ccbfx3tq6qm5zscs07w980000gn/T/ipykernel_96237/1721516657.py:62: ParserWarning: Falling back to the 'python' engine because the 'c' engine does not support skipfooter; you can avoid this warning by specifying engine='python'.\n",
      "  realtor_df = pd.read_csv(links[0], dtype= dtype_dict, skipfooter=1, usecols=list(df_keys))\n"
     ]
    }
   ],
   "source": [
    "import pandas as pd\n",
    "from scrapy import Selector\n",
    "import requests\n",
    "\n",
    "#setup \n",
    "url = \"https://www.realtor.com/research/data/\"\n",
    "html = requests.get(url).text\n",
    "xpath = \"//table[@id = 'supsystic-table-12']//td[@data-cell-id = 'F3']/a/@href\"\n",
    "dtype_dict = {\n",
    "    'month_date_yyyymm': 'str',\n",
    "    'postal_code': 'str',\n",
    "    'zip_name':\t'str',\n",
    "    'median_listing_price': 'Int64', \n",
    "    #'median_listing_price_mm': 'Float64',\n",
    "    #'median_listing_price_yy': 'Float64',\n",
    "    'active_listing_count': \"Int64\",\n",
    "    #'active_listing_count_mm': 'Float64',\n",
    "    #'active_listing_count_yy': 'Float64',\n",
    "    'median_days_on_market': \"Int64\",\n",
    "    #'median_days_on_market_mm': 'Float64',\n",
    "    #'median_days_on_market_yy': 'Float64',\n",
    "    'new_listing_count': \"Int64\" , \t\n",
    "    #'new_listing_count_mm' : 'Float64',\n",
    "    #'new_listing_count_yy': 'Float64',\t\n",
    "    'price_increased_count': \"Int64\" , \t\n",
    "    #'price_increased_count_mm': 'Float64',\n",
    "    #'price_increased_count_yy': 'Float64', \n",
    "    'price_reduced_count': \"Int64\" ,\n",
    "    #'price_reduced_count_mm': 'Float64',\n",
    "    #'price_reduced_count_yy': 'Float64',\t\n",
    "    'pending_listing_count': \"Int64\",\n",
    "    #'pending_listing_count_mm': 'Float64',\t\n",
    "    #'pending_listing_count_yy': 'Float64',\t\n",
    "    'median_listing_price_per_square_foot': \"Int64\",\n",
    "    #'median_listing_price_per_square_foot_mm': 'Float64',\n",
    "    #'median_listing_price_per_square_foot_yy': 'Float64',\n",
    "    'median_square_feet': 'Int64', \n",
    "    #'median_square_feet_mm': 'Float64',\n",
    "    #'median_square_feet_yy': 'Float64',\n",
    "    'average_listing_price': \"Int64\",\n",
    "    #'average_listing_price_mm': 'Float64',\n",
    "    #'average_listing_price_yy': 'Float64',\n",
    "    'total_listing_count': \"Int64\", \n",
    "    #'total_listing_count_mm': 'Float64',\n",
    "    #'total_listing_count_yy': 'Float64', \t\n",
    "    'pending_ratio': 'Float64' , \n",
    "    #'pending_ratio_mm': 'Float64',\n",
    "    #'pending_ratio_yy': 'Float64',\n",
    "    'quality_flag': 'Int64'\n",
    "}\n",
    "\n",
    "df_keys = dtype_dict.keys()\n",
    "\n",
    "\n",
    "#get csv file from website \n",
    "sel = Selector(text=html)\n",
    "links = sel.xpath(xpath).extract()\n",
    "\n",
    "#ingest data into pandas DF\n",
    "print(\"opening link: \")\n",
    "print(links[0])\n",
    "realtor_df = pd.read_csv(links[0], dtype= dtype_dict, skipfooter=1, usecols=list(df_keys))"
   ]
  },
  {
   "cell_type": "code",
   "execution_count": 9,
   "metadata": {},
   "outputs": [
    {
     "name": "stdout",
     "output_type": "stream",
     "text": [
      "['202208']\n",
      "(27914, 16)\n"
     ]
    }
   ],
   "source": [
    "#This is the df_sandbox\n",
    "print(pd.unique(realtor_df['month_date_yyyymm']))\n",
    "print(realtor_df.shape)\n"
   ]
  },
  {
   "cell_type": "code",
   "execution_count": 10,
   "metadata": {},
   "outputs": [
    {
     "data": {
      "text/plain": "dict_keys"
     },
     "execution_count": 10,
     "metadata": {},
     "output_type": "execute_result"
    }
   ],
   "source": []
  }
 ],
 "metadata": {
  "kernelspec": {
   "display_name": "Python 3.10.6 64-bit",
   "name": "python3106jvsc74a57bd08f9328efe3468e6c370cdfed98702d3986faf748314d5bcec59da615d65baa7a"
  },
  "language_info": {
   "codemirror_mode": {
    "name": "ipython",
    "version": 3
   },
   "file_extension": ".py",
   "mimetype": "text/x-python",
   "name": "python",
   "nbconvert_exporter": "python",
   "pygments_lexer": "ipython3",
   "version": "3.10.6"
  },
  "metadata": {
   "interpreter": {
    "hash": "8f9328efe3468e6c370cdfed98702d3986faf748314d5bcec59da615d65baa7a"
   }
  },
  "orig_nbformat": 2
 },
 "nbformat": 4,
 "nbformat_minor": 2
}