{
 "cells": [
  {
   "cell_type": "code",
   "execution_count": 1,
   "metadata": {},
   "outputs": [
    {
     "name": "stderr",
     "output_type": "stream",
     "text": [
      "/Users/miguelrondon/Desktop/CODE/Data Projects/Real-Estate-By-Census/scrape_realtor.py:35: ParserWarning: Falling back to the 'python' engine because the 'c' engine does not support skipfooter; you can avoid this warning by specifying engine='python'.\n",
      "  realtor_df = pd.read_csv(\n"
     ]
    }
   ],
   "source": [
    "import pandas as pd\n",
    "from census_api import census_df\n",
    "from scrape_realtor import realtor_df"
   ]
  },
  {
   "cell_type": "code",
   "execution_count": 2,
   "metadata": {},
   "outputs": [
    {
     "data": {
      "text/html": "<div>\n<style scoped>\n    .dataframe tbody tr th:only-of-type {\n        vertical-align: middle;\n    }\n\n    .dataframe tbody tr th {\n        vertical-align: top;\n    }\n\n    .dataframe thead th {\n        text-align: right;\n    }\n</style>\n<table border=\"1\" class=\"dataframe\">\n  <thead>\n    <tr style=\"text-align: right;\">\n      <th></th>\n      <th>State</th>\n      <th>Abbrev</th>\n      <th>Code</th>\n    </tr>\n  </thead>\n  <tbody>\n    <tr>\n      <th>0</th>\n      <td>Alabama</td>\n      <td>Ala.</td>\n      <td>AL</td>\n    </tr>\n    <tr>\n      <th>1</th>\n      <td>Alaska</td>\n      <td>Alaska</td>\n      <td>AK</td>\n    </tr>\n    <tr>\n      <th>2</th>\n      <td>Arizona</td>\n      <td>Ariz.</td>\n      <td>AZ</td>\n    </tr>\n    <tr>\n      <th>3</th>\n      <td>Arkansas</td>\n      <td>Ark.</td>\n      <td>AR</td>\n    </tr>\n    <tr>\n      <th>4</th>\n      <td>California</td>\n      <td>Calif.</td>\n      <td>CA</td>\n    </tr>\n    <tr>\n      <th>5</th>\n      <td>Colorado</td>\n      <td>Colo.</td>\n      <td>CO</td>\n    </tr>\n    <tr>\n      <th>6</th>\n      <td>Connecticut</td>\n      <td>Conn.</td>\n      <td>CT</td>\n    </tr>\n    <tr>\n      <th>7</th>\n      <td>Delaware</td>\n      <td>Del.</td>\n      <td>DE</td>\n    </tr>\n    <tr>\n      <th>8</th>\n      <td>District of Columbia</td>\n      <td>D.C.</td>\n      <td>DC</td>\n    </tr>\n    <tr>\n      <th>9</th>\n      <td>Florida</td>\n      <td>Fla.</td>\n      <td>FL</td>\n    </tr>\n    <tr>\n      <th>10</th>\n      <td>Georgia</td>\n      <td>Ga.</td>\n      <td>GA</td>\n    </tr>\n    <tr>\n      <th>11</th>\n      <td>Hawaii</td>\n      <td>Hawaii</td>\n      <td>HI</td>\n    </tr>\n    <tr>\n      <th>12</th>\n      <td>Idaho</td>\n      <td>Idaho</td>\n      <td>ID</td>\n    </tr>\n    <tr>\n      <th>13</th>\n      <td>Illinois</td>\n      <td>Ill.</td>\n      <td>IL</td>\n    </tr>\n    <tr>\n      <th>14</th>\n      <td>Indiana</td>\n      <td>Ind.</td>\n      <td>IN</td>\n    </tr>\n    <tr>\n      <th>15</th>\n      <td>Iowa</td>\n      <td>Iowa</td>\n      <td>IA</td>\n    </tr>\n    <tr>\n      <th>16</th>\n      <td>Kansas</td>\n      <td>Kans.</td>\n      <td>KS</td>\n    </tr>\n    <tr>\n      <th>17</th>\n      <td>Kentucky</td>\n      <td>Ky.</td>\n      <td>KY</td>\n    </tr>\n    <tr>\n      <th>18</th>\n      <td>Louisiana</td>\n      <td>La.</td>\n      <td>LA</td>\n    </tr>\n    <tr>\n      <th>19</th>\n      <td>Maine</td>\n      <td>Maine</td>\n      <td>ME</td>\n    </tr>\n    <tr>\n      <th>20</th>\n      <td>Maryland</td>\n      <td>Md.</td>\n      <td>MD</td>\n    </tr>\n    <tr>\n      <th>21</th>\n      <td>Massachusetts</td>\n      <td>Mass.</td>\n      <td>MA</td>\n    </tr>\n    <tr>\n      <th>22</th>\n      <td>Michigan</td>\n      <td>Mich.</td>\n      <td>MI</td>\n    </tr>\n    <tr>\n      <th>23</th>\n      <td>Minnesota</td>\n      <td>Minn.</td>\n      <td>MN</td>\n    </tr>\n    <tr>\n      <th>24</th>\n      <td>Mississippi</td>\n      <td>Miss.</td>\n      <td>MS</td>\n    </tr>\n    <tr>\n      <th>25</th>\n      <td>Missouri</td>\n      <td>Mo.</td>\n      <td>MO</td>\n    </tr>\n    <tr>\n      <th>26</th>\n      <td>Montana</td>\n      <td>Mont.</td>\n      <td>MT</td>\n    </tr>\n    <tr>\n      <th>27</th>\n      <td>Nebraska</td>\n      <td>Nebr.</td>\n      <td>NE</td>\n    </tr>\n    <tr>\n      <th>28</th>\n      <td>Nevada</td>\n      <td>Nev.</td>\n      <td>NV</td>\n    </tr>\n    <tr>\n      <th>29</th>\n      <td>New Hampshire</td>\n      <td>N.H.</td>\n      <td>NH</td>\n    </tr>\n    <tr>\n      <th>30</th>\n      <td>New Jersey</td>\n      <td>N.J.</td>\n      <td>NJ</td>\n    </tr>\n    <tr>\n      <th>31</th>\n      <td>New Mexico</td>\n      <td>N.M.</td>\n      <td>NM</td>\n    </tr>\n    <tr>\n      <th>32</th>\n      <td>New York</td>\n      <td>N.Y.</td>\n      <td>NY</td>\n    </tr>\n    <tr>\n      <th>33</th>\n      <td>North Carolina</td>\n      <td>N.C.</td>\n      <td>NC</td>\n    </tr>\n    <tr>\n      <th>34</th>\n      <td>North Dakota</td>\n      <td>N.D.</td>\n      <td>ND</td>\n    </tr>\n    <tr>\n      <th>35</th>\n      <td>Ohio</td>\n      <td>Ohio</td>\n      <td>OH</td>\n    </tr>\n    <tr>\n      <th>36</th>\n      <td>Oklahoma</td>\n      <td>Okla.</td>\n      <td>OK</td>\n    </tr>\n    <tr>\n      <th>37</th>\n      <td>Oregon</td>\n      <td>Ore.</td>\n      <td>OR</td>\n    </tr>\n    <tr>\n      <th>38</th>\n      <td>Pennsylvania</td>\n      <td>Pa.</td>\n      <td>PA</td>\n    </tr>\n    <tr>\n      <th>39</th>\n      <td>Rhode Island</td>\n      <td>R.I.</td>\n      <td>RI</td>\n    </tr>\n    <tr>\n      <th>40</th>\n      <td>South Carolina</td>\n      <td>S.C.</td>\n      <td>SC</td>\n    </tr>\n    <tr>\n      <th>41</th>\n      <td>South Dakota</td>\n      <td>S.D.</td>\n      <td>SD</td>\n    </tr>\n    <tr>\n      <th>42</th>\n      <td>Tennessee</td>\n      <td>Tenn.</td>\n      <td>TN</td>\n    </tr>\n    <tr>\n      <th>43</th>\n      <td>Texas</td>\n      <td>Tex.</td>\n      <td>TX</td>\n    </tr>\n    <tr>\n      <th>44</th>\n      <td>Utah</td>\n      <td>Utah</td>\n      <td>UT</td>\n    </tr>\n    <tr>\n      <th>45</th>\n      <td>Vermont</td>\n      <td>Vt.</td>\n      <td>VT</td>\n    </tr>\n    <tr>\n      <th>46</th>\n      <td>Virginia</td>\n      <td>Va.</td>\n      <td>VA</td>\n    </tr>\n    <tr>\n      <th>47</th>\n      <td>Washington</td>\n      <td>Wash.</td>\n      <td>WA</td>\n    </tr>\n    <tr>\n      <th>48</th>\n      <td>West Virginia</td>\n      <td>W.Va.</td>\n      <td>WV</td>\n    </tr>\n    <tr>\n      <th>49</th>\n      <td>Wisconsin</td>\n      <td>Wis.</td>\n      <td>WI</td>\n    </tr>\n    <tr>\n      <th>50</th>\n      <td>Wyoming</td>\n      <td>Wyo.</td>\n      <td>WY</td>\n    </tr>\n  </tbody>\n</table>\n</div>",
      "text/plain": "                   State  Abbrev Code\n0                Alabama    Ala.   AL\n1                 Alaska  Alaska   AK\n2                Arizona   Ariz.   AZ\n3               Arkansas    Ark.   AR\n4             California  Calif.   CA\n5               Colorado   Colo.   CO\n6            Connecticut   Conn.   CT\n7               Delaware    Del.   DE\n8   District of Columbia    D.C.   DC\n9                Florida    Fla.   FL\n10               Georgia     Ga.   GA\n11                Hawaii  Hawaii   HI\n12                 Idaho   Idaho   ID\n13              Illinois    Ill.   IL\n14               Indiana    Ind.   IN\n15                  Iowa    Iowa   IA\n16                Kansas   Kans.   KS\n17              Kentucky     Ky.   KY\n18             Louisiana     La.   LA\n19                 Maine   Maine   ME\n20              Maryland     Md.   MD\n21         Massachusetts   Mass.   MA\n22              Michigan   Mich.   MI\n23             Minnesota   Minn.   MN\n24           Mississippi   Miss.   MS\n25              Missouri     Mo.   MO\n26               Montana   Mont.   MT\n27              Nebraska   Nebr.   NE\n28                Nevada    Nev.   NV\n29         New Hampshire    N.H.   NH\n30            New Jersey    N.J.   NJ\n31            New Mexico    N.M.   NM\n32              New York    N.Y.   NY\n33        North Carolina    N.C.   NC\n34          North Dakota    N.D.   ND\n35                  Ohio    Ohio   OH\n36              Oklahoma   Okla.   OK\n37                Oregon    Ore.   OR\n38          Pennsylvania     Pa.   PA\n39          Rhode Island    R.I.   RI\n40        South Carolina    S.C.   SC\n41          South Dakota    S.D.   SD\n42             Tennessee   Tenn.   TN\n43                 Texas    Tex.   TX\n44                  Utah    Utah   UT\n45               Vermont     Vt.   VT\n46              Virginia     Va.   VA\n47            Washington   Wash.   WA\n48         West Virginia   W.Va.   WV\n49             Wisconsin    Wis.   WI\n50               Wyoming    Wyo.   WY"
     },
     "execution_count": 2,
     "metadata": {},
     "output_type": "execute_result"
    }
   ],
   "source": [
    "state_abrevs=pd.read_json('state_abrev.json', dtype=\"str\")\n",
    "state_abrevs"
   ]
  },
  {
   "cell_type": "code",
   "execution_count": 3,
   "metadata": {},
   "outputs": [],
   "source": [
    "if len(realtor_df[\"month_date_yyyymm\"].unique()) == 1: \n",
    "    realtor_df[\"State\"] = realtor_df[\"State\"].str.upper().str.replace(\" \", \"\")\n",
    "    realtor_df[\"County\"] = realtor_df[\"County\"].str.capitalize()\n",
    "    realtor_df = pd.merge(realtor_df, state_abrevs, how='left',\n",
    "                      left_on=\"State\", right_on=\"Code\")\n",
    "    realtor_df[\"state\"] = realtor_df[\"State_y\"]\n",
    "    realtor_df = realtor_df.drop(['State_x', 'State_y', 'Abbrev'], axis=1)\n",
    "    realtor_df.columns = realtor_df.columns.str.lower()\n",
    "    as_of_month_year = realtor_df[\"month_date_yyyymm\"][0]\n",
    "    realtor_df\n",
    "else: \n",
    "    raise Exception(\"the realtor dataframe has more than one date in it, it should only have one date. Please review...\") "
   ]
  },
  {
   "cell_type": "code",
   "execution_count": 4,
   "metadata": {},
   "outputs": [],
   "source": [
    "import datetime\n",
    "\n",
    "datetime = datetime.datetime.strptime(\n",
    "    as_of_month_year, \"%Y%m\").strftime(\"%b_%Y\")\n",
    "\n"
   ]
  },
  {
   "cell_type": "code",
   "execution_count": 5,
   "metadata": {},
   "outputs": [
    {
     "name": "stdout",
     "output_type": "stream",
     "text": [
      "     county     state _total: _total:population_of_one_race:  \\\n",
      "0  Autauga    Alabama   58805                          55648   \n",
      "1  Baldwin    Alabama  231767                         216743   \n",
      "2  Barbour    Alabama   25223                          24523   \n",
      "3     Bibb    Alabama   22293                          21534   \n",
      "4   Blount    Alabama   59134                          55478   \n",
      "\n",
      "  _total:population_of_one_race:white_alone  \\\n",
      "0                                     42160   \n",
      "1                                    189399   \n",
      "2                                     11317   \n",
      "3                                     16555   \n",
      "4                                     50663   \n",
      "\n",
      "  _total:population_of_one_race:black_or_african_american_alone  \\\n",
      "0                                              11445              \n",
      "1                                              18217              \n",
      "2                                              11933              \n",
      "3                                               4413              \n",
      "4                                                845              \n",
      "\n",
      "  _total:population_of_one_race:american_indian_and_alaska_native_alone  \\\n",
      "0                                                217                      \n",
      "1                                               1582                      \n",
      "2                                                116                      \n",
      "3                                                 60                      \n",
      "4                                                337                      \n",
      "\n",
      "  _total:population_of_one_race:asian_alone  \\\n",
      "0                                       881   \n",
      "1                                      2067   \n",
      "2                                       117   \n",
      "3                                        32   \n",
      "4                                       178   \n",
      "\n",
      "  _total:population_of_one_race:native_hawaiian_and_other_pacific_islander_alone  \\\n",
      "0                                                 35                               \n",
      "1                                                143                               \n",
      "2                                                  1                               \n",
      "3                                                  9                               \n",
      "4                                                 24                               \n",
      "\n",
      "  _total:population_of_one_race:some_other_race_alone  \\\n",
      "0                                                910    \n",
      "1                                               5335    \n",
      "2                                               1039    \n",
      "3                                                465    \n",
      "4                                               3431    \n",
      "\n",
      "  _total:population_of_two_or_more_races: _total:hispanic_or_latino  \n",
      "0                                    3157                      2117  \n",
      "1                                   15024                     12686  \n",
      "2                                     700                      1510  \n",
      "3                                     759                       740  \n",
      "4                                    3656                      5771  \n"
     ]
    }
   ],
   "source": [
    "census_df['County'] = census_df['County'].str.replace(\"County\", \"\")\n",
    "census_df.columns = census_df.columns.str.lower().str.replace(\" \", \"_\")\n",
    "\n",
    "print(census_df.head())\n"
   ]
  },
  {
   "cell_type": "code",
   "execution_count": 6,
   "metadata": {},
   "outputs": [],
   "source": [
    "from sqlalchemy import create_engine \n",
    "from sqlalchemy_utils import database_exists, create_database\n",
    "from postgres_credentials import alchemycred\n",
    "\n",
    "\n",
    "engine= create_engine(alchemycred)\n",
    "if not database_exists(engine.url):\n",
    "    create_database(engine.url)\n"
   ]
  },
  {
   "cell_type": "code",
   "execution_count": 7,
   "metadata": {},
   "outputs": [
    {
     "data": {
      "text/plain": "106"
     },
     "execution_count": 7,
     "metadata": {},
     "output_type": "execute_result"
    }
   ],
   "source": [
    "#constantly refreshes data when run \n",
    "realtor_df.to_sql(\"county_prices\", engine, if_exists='replace')\n",
    "\n",
    "#Does not refresh data once created. Data remains the same over time. \n",
    "census_df.to_sql(\"census_demographics\", engine, if_exists='fail') "
   ]
  }
 ],
 "metadata": {
  "kernelspec": {
   "display_name": "Python 3.10.6 64-bit",
   "name": "python3106jvsc74a57bd08f9328efe3468e6c370cdfed98702d3986faf748314d5bcec59da615d65baa7a"
  },
  "language_info": {
   "codemirror_mode": {
    "name": "ipython",
    "version": 3
   },
   "file_extension": ".py",
   "mimetype": "text/x-python",
   "name": "python",
   "nbconvert_exporter": "python",
   "pygments_lexer": "ipython3",
   "version": "3.10.6"
  },
  "metadata": {
   "interpreter": {
    "hash": "8f9328efe3468e6c370cdfed98702d3986faf748314d5bcec59da615d65baa7a"
   }
  },
  "orig_nbformat": 2
 },
 "nbformat": 4,
 "nbformat_minor": 2
}