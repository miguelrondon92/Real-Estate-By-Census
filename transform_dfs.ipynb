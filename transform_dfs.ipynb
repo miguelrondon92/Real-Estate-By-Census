{
 "cells": [
  {
   "cell_type": "code",
   "execution_count": 1,
   "metadata": {},
   "outputs": [
    {
     "name": "stdout",
     "output_type": "stream",
     "text": [
      "Oops.. something went wrong with scraping. Likely, site is forbidden. using alternative to scraping...\n"
     ]
    }
   ],
   "source": [
    "import pandas as pd\n",
    "import numpy as np\n",
    "from census_api import census_df\n",
    "from scrape_realtor import realtor_df"
   ]
  },
  {
   "cell_type": "code",
   "execution_count": 2,
   "metadata": {},
   "outputs": [],
   "source": [
    "state_abrevs=pd.read_json('state_abrev.json', dtype=\"str\")\n"
   ]
  },
  {
   "cell_type": "code",
   "execution_count": 3,
   "metadata": {},
   "outputs": [],
   "source": [
    "if len(realtor_df[\"month_date_yyyymm\"].unique()) == 1: \n",
    "    realtor_df[\"State\"] = realtor_df[\"State\"].str.upper().str.replace(\" \", \"\")\n",
    "    realtor_df[\"County\"] = realtor_df[\"County\"].str.capitalize()\n",
    "    realtor_df = pd.merge(realtor_df, state_abrevs, how='left',\n",
    "                      left_on=\"State\", right_on=\"Code\")\n",
    "    realtor_df[\"state\"] = realtor_df[\"State_y\"]\n",
    "    realtor_df = realtor_df.drop(['State_x', 'State_y', 'Abbrev'], axis=1)\n",
    "    realtor_df.columns = realtor_df.columns.str.lower()\n",
    "    #as_of_month_year = realtor_df[\"month_date_yyyymm\"][0]\n",
    "else: \n",
    "    raise Exception(\"the realtor dataframe has more than one date in it, it should only have one date. Please review...\") \n",
    "\n",
    "for column in realtor_df:\n",
    "    if realtor_df[column].dtype == pd.StringDtype:\n",
    "        realtor_df[column] = realtor_df[column].str.strip()\n"
   ]
  },
  {
   "cell_type": "code",
   "execution_count": 5,
   "metadata": {},
   "outputs": [],
   "source": [
    "# import datetime\n",
    "# datetime = datetime.datetime.strptime(\n",
    "#     as_of_month_year, \"%Y%m\").strftime(\"%b_%Y\")"
   ]
  },
  {
   "cell_type": "code",
   "execution_count": 4,
   "metadata": {},
   "outputs": [],
   "source": [
    "census_df['County'] = census_df['County'].str.replace(\"County\", \"\")\n",
    "census_df['fips'] = census_df['fips_state'] + census_df['fips_county']\n",
    "census_df = census_df.drop(['fips_state','fips_county'], axis=1)\n",
    "census_df.columns = census_df.columns.str.lower().str.strip().str.replace(\" \",\n",
    "                                                                          \"_\").str.replace(\":\", \"_\").str.strip(\"_\")\n",
    "for column in census_df:\n",
    "    if census_df[column].dtype == pd.StringDtype:\n",
    "        census_df[column] = census_df[column].str.strip()\n",
    "\n",
    "census_df[\"county\"] = census_df[\"county\"].str.capitalize()\n"
   ]
  },
  {
   "cell_type": "code",
   "execution_count": 5,
   "metadata": {},
   "outputs": [],
   "source": [
    "#edge cases\n",
    "\n",
    "#louisiana parishes, \n",
    "census_df['county'] = np.where(census_df['state'] == 'Louisiana', census_df['county'].str.replace(\" parish\", \"\"), \n",
    "np.where(census_df['state'] == 'Alaska', census_df['county'].str.replace(\" borough\", \"\").str.replace(\" census area\", \"\").str.replace(\" municipality\", \"\").str.replace(\" city and borough\", \"\"), census_df['county']))\n",
    "\n",
    "#other edge cases to be handled later,"
   ]
  },
  {
   "cell_type": "code",
   "execution_count": 6,
   "metadata": {},
   "outputs": [],
   "source": [
    "from sqlalchemy import create_engine \n",
    "from sqlalchemy_utils import database_exists, create_database\n",
    "from postgres_credentials import alchemycred\n",
    "\n",
    "\n",
    "engine= create_engine(alchemycred)\n",
    "if not database_exists(engine.url):\n",
    "    create_database(engine.url)\n"
   ]
  },
  {
   "cell_type": "code",
   "execution_count": 7,
   "metadata": {},
   "outputs": [
    {
     "data": {
      "text/plain": "221"
     },
     "execution_count": 7,
     "metadata": {},
     "output_type": "execute_result"
    }
   ],
   "source": [
    "#constantly refreshes data when run \n",
    "realtor_df.to_sql(\"county_prices\", engine, if_exists='replace')\n",
    "\n",
    "#Does not refresh data once created. Data remains the same over time. \n",
    "census_df.to_sql(\"census_demographics\", engine, if_exists='replace') "
   ]
  }
 ],
 "metadata": {
  "kernelspec": {
   "display_name": "Python 3.10.6 64-bit",
   "name": "python3106jvsc74a57bd08f9328efe3468e6c370cdfed98702d3986faf748314d5bcec59da615d65baa7a"
  },
  "language_info": {
   "codemirror_mode": {
    "name": "ipython",
    "version": 3
   },
   "file_extension": ".py",
   "mimetype": "text/x-python",
   "name": "python",
   "nbconvert_exporter": "python",
   "pygments_lexer": "ipython3",
   "version": "3.10.6"
  },
  "metadata": {
   "interpreter": {
    "hash": "8f9328efe3468e6c370cdfed98702d3986faf748314d5bcec59da615d65baa7a"
   }
  },
  "orig_nbformat": 2
 },
 "nbformat": 4,
 "nbformat_minor": 2
}