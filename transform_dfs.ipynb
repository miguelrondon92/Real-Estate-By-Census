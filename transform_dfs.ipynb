{
 "cells": [
  {
   "cell_type": "code",
<<<<<<< HEAD
   "execution_count": null,
   "metadata": {},
   "outputs": [],
   "source": []
  },
  {
   "cell_type": "code",
   "execution_count": null,
   "metadata": {},
   "outputs": [],
   "source": []
  },
  {
   "cell_type": "code",
   "execution_count": 25,
   "metadata": {},
=======
   "execution_count": 1,
   "metadata": {},
   "outputs": [
    {
     "name": "stdout",
     "output_type": "stream",
     "text": [
      "opening link: \n",
      "https://econdata.s3-us-west-2.amazonaws.com/Reports/Core/RDC_Inventory_Core_Metrics_County.csv\n"
     ]
    },
    {
     "name": "stderr",
     "output_type": "stream",
     "text": [
      "/var/folders/c5/lp6ccbfx3tq6qm5zscs07w980000gn/T/ipykernel_2387/3995308599.py:62: ParserWarning: Falling back to the 'python' engine because the 'c' engine does not support skipfooter; you can avoid this warning by specifying engine='python'.\n",
      "  realtor_df = pd.read_csv(\n"
     ]
    }
   ],
   "source": [
    "import pandas as pd\n",
    "from scrapy import Selector\n",
    "import requests\n",
    "\n",
    "#setup\n",
    "url = \"https://www.realtor.com/research/data/\"\n",
    "html = requests.get(url).text\n",
    "xpath = \"//table[@id = 'supsystic-table-12']//td[@data-cell-id = 'E3']/a/@href\"\n",
    "dtype_dict = {\n",
    "    'month_date_yyyymm': 'str',\n",
    "    'county_fips': 'str',\n",
    "    'county_name':\t'str',\n",
    "    'median_listing_price': 'Int64',\n",
    "    #'median_listing_price_mm': 'Float64',\n",
    "    #'median_listing_price_yy': 'Float64',\n",
    "    'active_listing_count': \"Int64\",\n",
    "    #'active_listing_count_mm': 'Float64',\n",
    "    #'active_listing_count_yy': 'Float64',\n",
    "    'median_days_on_market': \"Int64\",\n",
    "    #'median_days_on_market_mm': 'Float64',\n",
    "    #'median_days_on_market_yy': 'Float64',\n",
    "    'new_listing_count': \"Int64\",\n",
    "    #'new_listing_count_mm' : 'Float64',\n",
    "    #'new_listing_count_yy': 'Float64',\n",
    "    'price_increased_count': \"Int64\",\n",
    "    #'price_increased_count_mm': 'Float64',\n",
    "    #'price_increased_count_yy': 'Float64',\n",
    "    'price_reduced_count': \"Int64\",\n",
    "    #'price_reduced_count_mm': 'Float64',\n",
    "    #'price_reduced_count_yy': 'Float64',\n",
    "    'pending_listing_count': \"Int64\",\n",
    "    #'pending_listing_count_mm': 'Float64',\n",
    "    #'pending_listing_count_yy': 'Float64',\n",
    "    'median_listing_price_per_square_foot': \"Int64\",\n",
    "    #'median_listing_price_per_square_foot_mm': 'Float64',\n",
    "    #'median_listing_price_per_square_foot_yy': 'Float64',\n",
    "    'median_square_feet': 'Int64',\n",
    "    #'median_square_feet_mm': 'Float64',\n",
    "    #'median_square_feet_yy': 'Float64',\n",
    "    'average_listing_price': \"Int64\",\n",
    "    #'average_listing_price_mm': 'Float64',\n",
    "    #'average_listing_price_yy': 'Float64',\n",
    "    'total_listing_count': \"Int64\",\n",
    "    #'total_listing_count_mm': 'Float64',\n",
    "    #'total_listing_count_yy': 'Float64',\n",
    "    'pending_ratio': 'Float64',\n",
    "    #'pending_ratio_mm': 'Float64',\n",
    "    #'pending_ratio_yy': 'Float64',\n",
    "    'quality_flag': 'Int64'\n",
    "}\n",
    "\n",
    "df_keys = dtype_dict.keys()\n",
    "\n",
    "\n",
    "#get csv file from website\n",
    "sel = Selector(text=html)\n",
    "links = sel.xpath(xpath).extract()\n",
    "\n",
    "#ingest data into pandas DF\n",
    "print(\"opening link: \")\n",
    "print(links[0])\n",
    "realtor_df = pd.read_csv(\n",
    "    links[0], dtype=dtype_dict, skipfooter=1, usecols=list(df_keys))"
   ]
  },
  {
   "cell_type": "code",
   "execution_count": 2,
   "metadata": {},
   "outputs": [
    {
     "name": "stdout",
     "output_type": "stream",
     "text": [
      "['202208']\n",
      "(3106, 16)\n"
     ]
    }
   ],
   "source": [
    "#This is the df_sandbox\n",
    "print(pd.unique(realtor_df['month_date_yyyymm']))\n",
    "print(realtor_df.shape)\n"
   ]
  },
  {
   "cell_type": "code",
   "execution_count": 4,
   "metadata": {},
>>>>>>> alt-hist
   "outputs": [
    {
     "name": "stdout",
     "output_type": "stream",
     "text": [
<<<<<<< HEAD
      "2022-09-17 16:01:24.640344\n"
=======
      "  month_date_yyyymm county_fips          county_name  median_listing_price  \\\n",
      "0            202208       38015         burleigh, nd                382450   \n",
      "1            202208       28147         walthall, ms                169250   \n",
      "2            202208       17153          pulaski, il                 84700   \n",
      "3            202208       51730  petersburg city, va                194995   \n",
      "4            202208       26061         houghton, mi                254450   \n",
      "\n",
      "   active_listing_count  median_days_on_market  new_listing_count  \\\n",
      "0                   225                     39                136   \n",
      "1                    13                     51                  4   \n",
      "2                     9                     67                  4   \n",
      "3                   117                     36                 84   \n",
      "4                    50                     37                 36   \n",
      "\n",
      "   price_increased_count  price_reduced_count  pending_listing_count  \\\n",
      "0                      0                   80                    238   \n",
      "1                      0                    4                      2   \n",
      "2                      0                    4                      4   \n",
      "3                      4                   60                    125   \n",
      "4                      0                   16                     42   \n",
      "\n",
      "   median_listing_price_per_square_foot  median_square_feet  \\\n",
      "0                                   170                2212   \n",
      "1                                    92                2181   \n",
      "2                                    62                1474   \n",
      "3                                   140                1406   \n",
      "4                                   122                1761   \n",
      "\n",
      "   average_listing_price  total_listing_count  pending_ratio  quality_flag  \n",
      "0                 464139                  464         1.0578             0  \n",
      "1                 251766                   15         0.1538             1  \n",
      "2                  87918                   13         0.4444             0  \n",
      "3                 217184                  243         1.0684             1  \n",
      "4                 352869                   95           0.84             1  \n"
>>>>>>> alt-hist
     ]
    }
   ],
   "source": [
<<<<<<< HEAD
    "\n",
    "\n",
    "print(datetime.datetime.now())\n"
=======
    "print(realtor_df.head())"
>>>>>>> alt-hist
   ]
  },
  {
   "cell_type": "code",
   "execution_count": null,
   "metadata": {},
   "outputs": [],
   "source": []
  }
 ],
 "metadata": {
  "kernelspec": {
   "display_name": "Python 3.10.6 64-bit",
   "name": "python3106jvsc74a57bd08f9328efe3468e6c370cdfed98702d3986faf748314d5bcec59da615d65baa7a"
  },
  "language_info": {
   "codemirror_mode": {
    "name": "ipython",
    "version": 3
   },
   "file_extension": ".py",
   "mimetype": "text/x-python",
   "name": "python",
   "nbconvert_exporter": "python",
   "pygments_lexer": "ipython3",
   "version": "3.10.6"
  },
  "metadata": {
   "interpreter": {
    "hash": "8f9328efe3468e6c370cdfed98702d3986faf748314d5bcec59da615d65baa7a"
   }
  },
  "orig_nbformat": 2
 },
 "nbformat": 4,
 "nbformat_minor": 2
}