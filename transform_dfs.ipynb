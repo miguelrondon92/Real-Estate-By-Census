{
 "cells": [
  {
   "cell_type": "code",
   "execution_count": 2,
   "metadata": {},
   "outputs": [
    {
     "name": "stdout",
     "output_type": "stream",
     "text": [
      "opening link: \n",
      "https://econdata.s3-us-west-2.amazonaws.com/Reports/Core/RDC_Inventory_Core_Metrics_Zip.csv\n"
     ]
    },
    {
     "name": "stderr",
     "output_type": "stream",
     "text": [
      "/var/folders/c5/lp6ccbfx3tq6qm5zscs07w980000gn/T/ipykernel_89395/4284641114.py:16: DtypeWarning: Columns (0,1) have mixed types. Specify dtype option on import or set low_memory=False.\n",
      "  realtor_df = pd.read_csv(links[0])\n"
     ]
    }
   ],
   "source": [
    "import pandas as pd\n",
    "from scrapy import Selector\n",
    "import requests\n",
    "\n",
    "#setup \n",
    "url = \"https://www.realtor.com/research/data/\"\n",
    "html = requests.get(url).text\n",
    "xpath = \"//table[@id = 'supsystic-table-12']//td[@data-cell-id = 'F3']/a/@href\"\n",
    "dtype_dict = {\n",
    "    \n",
    "}\n",
    "\n",
    "\n",
    "#get csv file from website \n",
    "sel = Selector(text=html)\n",
    "links = sel.xpath(xpath).extract()\n",
    "\n",
    "#ingest data into pandas DF\n",
    "print(\"opening link: \")\n",
    "print(links[0])\n",
    "realtor_df = pd.read_csv(links[0])"
   ]
  },
  {
   "cell_type": "code",
   "execution_count": 7,
   "metadata": {},
   "outputs": [
    {
     "name": "stdout",
     "output_type": "stream",
     "text": [
      "0                                                   202208\n",
      "1                                                   202208\n",
      "2                                                   202208\n",
      "3                                                   202208\n",
      "4                                                   202208\n",
      "                               ...                        \n",
      "27910                                               202208\n",
      "27911                                               202208\n",
      "27912                                               202208\n",
      "27913                                               202208\n",
      "27914    quality_flag = 1:  year-over-year figures may ...\n",
      "Name: month_date_yyyymm, Length: 27915, dtype: object\n"
     ]
    }
   ],
   "source": [
    "print(realtor_df['month_date_yyyymm'])"
   ]
  },
  {
   "cell_type": "code",
   "execution_count": 5,
   "metadata": {},
   "outputs": [
    {
     "name": "stdout",
     "output_type": "stream",
     "text": [
      "2022-09-16 22:33:14.463126\n"
     ]
    }
   ],
   "source": [
    "import datetime\n",
    "\n",
    "print(datetime.datetime.now())\n"
   ]
  }
 ],
 "metadata": {
  "kernelspec": {
   "display_name": "Python 3.10.6 64-bit",
   "name": "python3106jvsc74a57bd08f9328efe3468e6c370cdfed98702d3986faf748314d5bcec59da615d65baa7a"
  },
  "language_info": {
   "codemirror_mode": {
    "name": "ipython",
    "version": 3
   },
   "file_extension": ".py",
   "mimetype": "text/x-python",
   "name": "python",
   "nbconvert_exporter": "python",
   "pygments_lexer": "ipython3",
   "version": "3.10.6"
  },
  "metadata": {
   "interpreter": {
    "hash": "8f9328efe3468e6c370cdfed98702d3986faf748314d5bcec59da615d65baa7a"
   }
  },
  "orig_nbformat": 2
 },
 "nbformat": 4,
 "nbformat_minor": 2
}