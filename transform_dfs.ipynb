{
 "cells": [
  {
   "cell_type": "code",
   "execution_count": 1,
   "metadata": {},
   "outputs": [
    {
     "name": "stderr",
     "output_type": "stream",
     "text": [
      "/Users/miguelrondon/Desktop/CODE/Data Projects/Real-Estate-By-Census/scrape_realtor.py:35: ParserWarning: Falling back to the 'python' engine because the 'c' engine does not support skipfooter; you can avoid this warning by specifying engine='python'.\n",
      "  realtor_df = pd.read_csv(\n"
     ]
    }
   ],
   "source": [
    "import pandas as pd\n",
    "from census_api import census_df\n",
    "from scrape_realtor import realtor_df"
   ]
  },
  {
   "cell_type": "code",
   "execution_count": 2,
   "metadata": {},
   "outputs": [],
   "source": [
    "state_abrevs=pd.read_json('state_abrev.json', dtype=\"str\")\n"
   ]
  },
  {
   "cell_type": "code",
   "execution_count": 3,
   "metadata": {},
   "outputs": [],
   "source": [
    "if len(realtor_df[\"month_date_yyyymm\"].unique()) == 1: \n",
    "    realtor_df[\"State\"] = realtor_df[\"State\"].str.upper().str.replace(\" \", \"\")\n",
    "    realtor_df[\"County\"] = realtor_df[\"County\"].str.capitalize()\n",
    "    realtor_df = pd.merge(realtor_df, state_abrevs, how='left',\n",
    "                      left_on=\"State\", right_on=\"Code\")\n",
    "    realtor_df[\"state\"] = realtor_df[\"State_y\"]\n",
    "    realtor_df = realtor_df.drop(['State_x', 'State_y', 'Abbrev'], axis=1)\n",
    "    realtor_df.columns = realtor_df.columns.str.lower()\n",
    "    #as_of_month_year = realtor_df[\"month_date_yyyymm\"][0]\n",
    "    realtor_df\n",
    "else: \n",
    "    raise Exception(\"the realtor dataframe has more than one date in it, it should only have one date. Please review...\") "
   ]
  },
  {
   "cell_type": "code",
   "execution_count": 4,
   "metadata": {},
   "outputs": [
    {
     "data": {
      "text/html": "<div>\n<style scoped>\n    .dataframe tbody tr th:only-of-type {\n        vertical-align: middle;\n    }\n\n    .dataframe tbody tr th {\n        vertical-align: top;\n    }\n\n    .dataframe thead th {\n        text-align: right;\n    }\n</style>\n<table border=\"1\" class=\"dataframe\">\n  <thead>\n    <tr style=\"text-align: right;\">\n      <th></th>\n      <th>county</th>\n      <th>month_date_yyyymm</th>\n      <th>county_fips</th>\n      <th>median_listing_price</th>\n      <th>active_listing_count</th>\n      <th>median_days_on_market</th>\n      <th>new_listing_count</th>\n      <th>price_increased_count</th>\n      <th>price_reduced_count</th>\n      <th>pending_listing_count</th>\n      <th>median_listing_price_per_square_foot</th>\n      <th>median_square_feet</th>\n      <th>average_listing_price</th>\n      <th>total_listing_count</th>\n      <th>pending_ratio</th>\n      <th>quality_flag</th>\n      <th>code</th>\n      <th>state</th>\n    </tr>\n  </thead>\n  <tbody>\n    <tr>\n      <th>0</th>\n      <td>Madison</td>\n      <td>202209</td>\n      <td>19121</td>\n      <td>340225</td>\n      <td>44</td>\n      <td>60</td>\n      <td>16</td>\n      <td>2</td>\n      <td>22</td>\n      <td>26</td>\n      <td>227</td>\n      <td>1638</td>\n      <td>453055</td>\n      <td>72</td>\n      <td>0.5909</td>\n      <td>0</td>\n      <td>IA</td>\n      <td>Iowa</td>\n    </tr>\n    <tr>\n      <th>1</th>\n      <td>Cheyenne</td>\n      <td>202209</td>\n      <td>31033</td>\n      <td>195000</td>\n      <td>41</td>\n      <td>48</td>\n      <td>10</td>\n      <td>0</td>\n      <td>12</td>\n      <td>10</td>\n      <td>96</td>\n      <td>2076</td>\n      <td>219916</td>\n      <td>51</td>\n      <td>0.2317</td>\n      <td>0</td>\n      <td>NE</td>\n      <td>Nebraska</td>\n    </tr>\n    <tr>\n      <th>2</th>\n      <td>Cambria</td>\n      <td>202209</td>\n      <td>42021</td>\n      <td>118500</td>\n      <td>189</td>\n      <td>56</td>\n      <td>114</td>\n      <td>0</td>\n      <td>62</td>\n      <td>119</td>\n      <td>71</td>\n      <td>1537</td>\n      <td>143090</td>\n      <td>305</td>\n      <td>0.6313</td>\n      <td>0</td>\n      <td>PA</td>\n      <td>Pennsylvania</td>\n    </tr>\n    <tr>\n      <th>3</th>\n      <td>Shelby</td>\n      <td>202209</td>\n      <td>17173</td>\n      <td>127450</td>\n      <td>32</td>\n      <td>82</td>\n      <td>26</td>\n      <td>0</td>\n      <td>8</td>\n      <td>21</td>\n      <td>81</td>\n      <td>1601</td>\n      <td>169984</td>\n      <td>53</td>\n      <td>0.6563</td>\n      <td>0</td>\n      <td>IL</td>\n      <td>Illinois</td>\n    </tr>\n    <tr>\n      <th>4</th>\n      <td>Llano</td>\n      <td>202209</td>\n      <td>48299</td>\n      <td>794500</td>\n      <td>223</td>\n      <td>68</td>\n      <td>92</td>\n      <td>4</td>\n      <td>66</td>\n      <td>64</td>\n      <td>367</td>\n      <td>2158</td>\n      <td>1174167</td>\n      <td>286</td>\n      <td>0.2876</td>\n      <td>0</td>\n      <td>TX</td>\n      <td>Texas</td>\n    </tr>\n    <tr>\n      <th>...</th>\n      <td>...</td>\n      <td>...</td>\n      <td>...</td>\n      <td>...</td>\n      <td>...</td>\n      <td>...</td>\n      <td>...</td>\n      <td>...</td>\n      <td>...</td>\n      <td>...</td>\n      <td>...</td>\n      <td>...</td>\n      <td>...</td>\n      <td>...</td>\n      <td>...</td>\n      <td>...</td>\n      <td>...</td>\n      <td>...</td>\n    </tr>\n    <tr>\n      <th>3110</th>\n      <td>Renville</td>\n      <td>202209</td>\n      <td>27129</td>\n      <td>149425</td>\n      <td>33</td>\n      <td>44</td>\n      <td>16</td>\n      <td>0</td>\n      <td>14</td>\n      <td>25</td>\n      <td>100</td>\n      <td>1547</td>\n      <td>179241</td>\n      <td>58</td>\n      <td>0.7424</td>\n      <td>0</td>\n      <td>MN</td>\n      <td>Minnesota</td>\n    </tr>\n    <tr>\n      <th>3111</th>\n      <td>Imperial</td>\n      <td>202209</td>\n      <td>6025</td>\n      <td>359900</td>\n      <td>151</td>\n      <td>48</td>\n      <td>106</td>\n      <td>0</td>\n      <td>60</td>\n      <td>115</td>\n      <td>207</td>\n      <td>1695</td>\n      <td>376257</td>\n      <td>265</td>\n      <td>0.7616</td>\n      <td>1</td>\n      <td>CA</td>\n      <td>California</td>\n    </tr>\n    <tr>\n      <th>3112</th>\n      <td>Weston</td>\n      <td>202209</td>\n      <td>56045</td>\n      <td>266750</td>\n      <td>40</td>\n      <td>62</td>\n      <td>6</td>\n      <td>0</td>\n      <td>2</td>\n      <td>9</td>\n      <td>118</td>\n      <td>2016</td>\n      <td>417080</td>\n      <td>49</td>\n      <td>0.2125</td>\n      <td>0</td>\n      <td>WY</td>\n      <td>Wyoming</td>\n    </tr>\n    <tr>\n      <th>3113</th>\n      <td>Dillingham</td>\n      <td>202209</td>\n      <td>2070</td>\n      <td>523750</td>\n      <td>5</td>\n      <td>72</td>\n      <td>0</td>\n      <td>0</td>\n      <td>0</td>\n      <td>&lt;NA&gt;</td>\n      <td>159</td>\n      <td>1800</td>\n      <td>492375</td>\n      <td>5</td>\n      <td>&lt;NA&gt;</td>\n      <td>1</td>\n      <td>AK</td>\n      <td>Alaska</td>\n    </tr>\n    <tr>\n      <th>3114</th>\n      <td>Hutchinson</td>\n      <td>202209</td>\n      <td>46067</td>\n      <td>143500</td>\n      <td>9</td>\n      <td>30</td>\n      <td>6</td>\n      <td>0</td>\n      <td>2</td>\n      <td>&lt;NA&gt;</td>\n      <td>83</td>\n      <td>1544</td>\n      <td>140829</td>\n      <td>9</td>\n      <td>&lt;NA&gt;</td>\n      <td>0</td>\n      <td>SD</td>\n      <td>South Dakota</td>\n    </tr>\n  </tbody>\n</table>\n<p>3115 rows × 18 columns</p>\n</div>",
      "text/plain": "          county month_date_yyyymm county_fips  median_listing_price  \\\n0        Madison            202209       19121                340225   \n1       Cheyenne            202209       31033                195000   \n2        Cambria            202209       42021                118500   \n3         Shelby            202209       17173                127450   \n4          Llano            202209       48299                794500   \n...          ...               ...         ...                   ...   \n3110    Renville            202209       27129                149425   \n3111    Imperial            202209        6025                359900   \n3112      Weston            202209       56045                266750   \n3113  Dillingham            202209        2070                523750   \n3114  Hutchinson            202209       46067                143500   \n\n      active_listing_count  median_days_on_market  new_listing_count  \\\n0                       44                     60                 16   \n1                       41                     48                 10   \n2                      189                     56                114   \n3                       32                     82                 26   \n4                      223                     68                 92   \n...                    ...                    ...                ...   \n3110                    33                     44                 16   \n3111                   151                     48                106   \n3112                    40                     62                  6   \n3113                     5                     72                  0   \n3114                     9                     30                  6   \n\n      price_increased_count  price_reduced_count  pending_listing_count  \\\n0                         2                   22                     26   \n1                         0                   12                     10   \n2                         0                   62                    119   \n3                         0                    8                     21   \n4                         4                   66                     64   \n...                     ...                  ...                    ...   \n3110                      0                   14                     25   \n3111                      0                   60                    115   \n3112                      0                    2                      9   \n3113                      0                    0                   <NA>   \n3114                      0                    2                   <NA>   \n\n      median_listing_price_per_square_foot  median_square_feet  \\\n0                                      227                1638   \n1                                       96                2076   \n2                                       71                1537   \n3                                       81                1601   \n4                                      367                2158   \n...                                    ...                 ...   \n3110                                   100                1547   \n3111                                   207                1695   \n3112                                   118                2016   \n3113                                   159                1800   \n3114                                    83                1544   \n\n      average_listing_price  total_listing_count  pending_ratio  quality_flag  \\\n0                    453055                   72         0.5909             0   \n1                    219916                   51         0.2317             0   \n2                    143090                  305         0.6313             0   \n3                    169984                   53         0.6563             0   \n4                   1174167                  286         0.2876             0   \n...                     ...                  ...            ...           ...   \n3110                 179241                   58         0.7424             0   \n3111                 376257                  265         0.7616             1   \n3112                 417080                   49         0.2125             0   \n3113                 492375                    5           <NA>             1   \n3114                 140829                    9           <NA>             0   \n\n     code         state  \n0      IA          Iowa  \n1      NE      Nebraska  \n2      PA  Pennsylvania  \n3      IL      Illinois  \n4      TX         Texas  \n...   ...           ...  \n3110   MN     Minnesota  \n3111   CA    California  \n3112   WY       Wyoming  \n3113   AK        Alaska  \n3114   SD  South Dakota  \n\n[3115 rows x 18 columns]"
     },
     "execution_count": 4,
     "metadata": {},
     "output_type": "execute_result"
    }
   ],
   "source": [
    "for column in realtor_df:\n",
    "    if realtor_df[column].dtype == pd.StringDtype:\n",
    "        realtor_df[column] = realtor_df[column].str.strip()\n",
    "\n",
    "realtor_df"
   ]
  },
  {
   "cell_type": "code",
   "execution_count": 6,
   "metadata": {},
   "outputs": [],
   "source": [
    "# import datetime\n",
    "# datetime = datetime.datetime.strptime(\n",
    "#     as_of_month_year, \"%Y%m\").strftime(\"%b_%Y\")\n",
    "\n"
   ]
  },
  {
   "cell_type": "code",
   "execution_count": 5,
   "metadata": {},
   "outputs": [
    {
     "data": {
      "text/html": "<div>\n<style scoped>\n    .dataframe tbody tr th:only-of-type {\n        vertical-align: middle;\n    }\n\n    .dataframe tbody tr th {\n        vertical-align: top;\n    }\n\n    .dataframe thead th {\n        text-align: right;\n    }\n</style>\n<table border=\"1\" class=\"dataframe\">\n  <thead>\n    <tr style=\"text-align: right;\">\n      <th></th>\n      <th>County</th>\n      <th>State</th>\n      <th>Total:</th>\n      <th>Total:Population of one race:</th>\n      <th>Total:Population of one race:White alone</th>\n      <th>Total:Population of one race:Black or African American alone</th>\n      <th>Total:Population of one race:American Indian and Alaska Native alone</th>\n      <th>Total:Population of one race:Asian alone</th>\n      <th>Total:Population of one race:Native Hawaiian and Other Pacific Islander alone</th>\n      <th>Total:Population of one race:Some Other Race alone</th>\n      <th>Total:Population of two or more races:</th>\n      <th>Total:Hispanic or Latino</th>\n    </tr>\n  </thead>\n  <tbody>\n    <tr>\n      <th>0</th>\n      <td>Autauga</td>\n      <td>Alabama</td>\n      <td>58805</td>\n      <td>55648</td>\n      <td>42160</td>\n      <td>11445</td>\n      <td>217</td>\n      <td>881</td>\n      <td>35</td>\n      <td>910</td>\n      <td>3157</td>\n      <td>2117</td>\n    </tr>\n    <tr>\n      <th>1</th>\n      <td>Baldwin</td>\n      <td>Alabama</td>\n      <td>231767</td>\n      <td>216743</td>\n      <td>189399</td>\n      <td>18217</td>\n      <td>1582</td>\n      <td>2067</td>\n      <td>143</td>\n      <td>5335</td>\n      <td>15024</td>\n      <td>12686</td>\n    </tr>\n    <tr>\n      <th>2</th>\n      <td>Barbour</td>\n      <td>Alabama</td>\n      <td>25223</td>\n      <td>24523</td>\n      <td>11317</td>\n      <td>11933</td>\n      <td>116</td>\n      <td>117</td>\n      <td>1</td>\n      <td>1039</td>\n      <td>700</td>\n      <td>1510</td>\n    </tr>\n    <tr>\n      <th>3</th>\n      <td>Bibb</td>\n      <td>Alabama</td>\n      <td>22293</td>\n      <td>21534</td>\n      <td>16555</td>\n      <td>4413</td>\n      <td>60</td>\n      <td>32</td>\n      <td>9</td>\n      <td>465</td>\n      <td>759</td>\n      <td>740</td>\n    </tr>\n    <tr>\n      <th>4</th>\n      <td>Blount</td>\n      <td>Alabama</td>\n      <td>59134</td>\n      <td>55478</td>\n      <td>50663</td>\n      <td>845</td>\n      <td>337</td>\n      <td>178</td>\n      <td>24</td>\n      <td>3431</td>\n      <td>3656</td>\n      <td>5771</td>\n    </tr>\n  </tbody>\n</table>\n</div>",
      "text/plain": "     County     State  Total:  Total:Population of one race:  \\\n0  Autauga    Alabama   58805                          55648   \n1  Baldwin    Alabama  231767                         216743   \n2  Barbour    Alabama   25223                          24523   \n3     Bibb    Alabama   22293                          21534   \n4   Blount    Alabama   59134                          55478   \n\n   Total:Population of one race:White alone  \\\n0                                     42160   \n1                                    189399   \n2                                     11317   \n3                                     16555   \n4                                     50663   \n\n   Total:Population of one race:Black or African American alone  \\\n0                                              11445              \n1                                              18217              \n2                                              11933              \n3                                               4413              \n4                                                845              \n\n   Total:Population of one race:American Indian and Alaska Native alone  \\\n0                                                217                      \n1                                               1582                      \n2                                                116                      \n3                                                 60                      \n4                                                337                      \n\n   Total:Population of one race:Asian alone  \\\n0                                       881   \n1                                      2067   \n2                                       117   \n3                                        32   \n4                                       178   \n\n   Total:Population of one race:Native Hawaiian and Other Pacific Islander alone  \\\n0                                                 35                               \n1                                                143                               \n2                                                  1                               \n3                                                  9                               \n4                                                 24                               \n\n   Total:Population of one race:Some Other Race alone  \\\n0                                                910    \n1                                               5335    \n2                                               1039    \n3                                                465    \n4                                               3431    \n\n   Total:Population of two or more races:  Total:Hispanic or Latino  \n0                                    3157                      2117  \n1                                   15024                     12686  \n2                                     700                      1510  \n3                                     759                       740  \n4                                    3656                      5771  "
     },
     "execution_count": 5,
     "metadata": {},
     "output_type": "execute_result"
    }
   ],
   "source": [
    "census_df['County'] = census_df['County'].str.replace(\"County\", \"\")\n",
    "census_df.head()"
   ]
  },
  {
   "cell_type": "code",
   "execution_count": 6,
   "metadata": {},
   "outputs": [
    {
     "data": {
      "text/html": "<div>\n<style scoped>\n    .dataframe tbody tr th:only-of-type {\n        vertical-align: middle;\n    }\n\n    .dataframe tbody tr th {\n        vertical-align: top;\n    }\n\n    .dataframe thead th {\n        text-align: right;\n    }\n</style>\n<table border=\"1\" class=\"dataframe\">\n  <thead>\n    <tr style=\"text-align: right;\">\n      <th></th>\n      <th>county</th>\n      <th>state</th>\n      <th>total</th>\n      <th>total_population_of_one_race</th>\n      <th>total_population_of_one_race_white_alone</th>\n      <th>total_population_of_one_race_black_or_african_american_alone</th>\n      <th>total_population_of_one_race_american_indian_and_alaska_native_alone</th>\n      <th>total_population_of_one_race_asian_alone</th>\n      <th>total_population_of_one_race_native_hawaiian_and_other_pacific_islander_alone</th>\n      <th>total_population_of_one_race_some_other_race_alone</th>\n      <th>total_population_of_two_or_more_races</th>\n      <th>total_hispanic_or_latino</th>\n    </tr>\n  </thead>\n  <tbody>\n    <tr>\n      <th>0</th>\n      <td>Autauga</td>\n      <td>Alabama</td>\n      <td>58805</td>\n      <td>55648</td>\n      <td>42160</td>\n      <td>11445</td>\n      <td>217</td>\n      <td>881</td>\n      <td>35</td>\n      <td>910</td>\n      <td>3157</td>\n      <td>2117</td>\n    </tr>\n    <tr>\n      <th>1</th>\n      <td>Baldwin</td>\n      <td>Alabama</td>\n      <td>231767</td>\n      <td>216743</td>\n      <td>189399</td>\n      <td>18217</td>\n      <td>1582</td>\n      <td>2067</td>\n      <td>143</td>\n      <td>5335</td>\n      <td>15024</td>\n      <td>12686</td>\n    </tr>\n    <tr>\n      <th>2</th>\n      <td>Barbour</td>\n      <td>Alabama</td>\n      <td>25223</td>\n      <td>24523</td>\n      <td>11317</td>\n      <td>11933</td>\n      <td>116</td>\n      <td>117</td>\n      <td>1</td>\n      <td>1039</td>\n      <td>700</td>\n      <td>1510</td>\n    </tr>\n    <tr>\n      <th>3</th>\n      <td>Bibb</td>\n      <td>Alabama</td>\n      <td>22293</td>\n      <td>21534</td>\n      <td>16555</td>\n      <td>4413</td>\n      <td>60</td>\n      <td>32</td>\n      <td>9</td>\n      <td>465</td>\n      <td>759</td>\n      <td>740</td>\n    </tr>\n    <tr>\n      <th>4</th>\n      <td>Blount</td>\n      <td>Alabama</td>\n      <td>59134</td>\n      <td>55478</td>\n      <td>50663</td>\n      <td>845</td>\n      <td>337</td>\n      <td>178</td>\n      <td>24</td>\n      <td>3431</td>\n      <td>3656</td>\n      <td>5771</td>\n    </tr>\n  </tbody>\n</table>\n</div>",
      "text/plain": "    county    state   total total_population_of_one_race  \\\n0  Autauga  Alabama   58805                        55648   \n1  Baldwin  Alabama  231767                       216743   \n2  Barbour  Alabama   25223                        24523   \n3     Bibb  Alabama   22293                        21534   \n4   Blount  Alabama   59134                        55478   \n\n  total_population_of_one_race_white_alone  \\\n0                                    42160   \n1                                   189399   \n2                                    11317   \n3                                    16555   \n4                                    50663   \n\n  total_population_of_one_race_black_or_african_american_alone  \\\n0                                              11445             \n1                                              18217             \n2                                              11933             \n3                                               4413             \n4                                                845             \n\n  total_population_of_one_race_american_indian_and_alaska_native_alone  \\\n0                                                217                     \n1                                               1582                     \n2                                                116                     \n3                                                 60                     \n4                                                337                     \n\n  total_population_of_one_race_asian_alone  \\\n0                                      881   \n1                                     2067   \n2                                      117   \n3                                       32   \n4                                      178   \n\n  total_population_of_one_race_native_hawaiian_and_other_pacific_islander_alone  \\\n0                                                 35                              \n1                                                143                              \n2                                                  1                              \n3                                                  9                              \n4                                                 24                              \n\n  total_population_of_one_race_some_other_race_alone  \\\n0                                                910   \n1                                               5335   \n2                                               1039   \n3                                                465   \n4                                               3431   \n\n  total_population_of_two_or_more_races total_hispanic_or_latino  \n0                                  3157                     2117  \n1                                 15024                    12686  \n2                                   700                     1510  \n3                                   759                      740  \n4                                  3656                     5771  "
     },
     "execution_count": 6,
     "metadata": {},
     "output_type": "execute_result"
    }
   ],
   "source": [
    "census_df.columns = census_df.columns.str.lower().str.strip().str.replace(\" \",\n",
    "                                                                      \"_\").str.replace(\":\", \"_\").str.strip(\"_\")\n",
    "\n",
    "for column in census_df:\n",
    "    if census_df[column].dtype == pd.StringDtype:\n",
    "        census_df[column] = census_df[column].str.strip()\n",
    "\n",
    "census_df.head()\n"
   ]
  },
  {
   "cell_type": "code",
   "execution_count": 7,
   "metadata": {},
   "outputs": [],
   "source": [
    "from sqlalchemy import create_engine \n",
    "from sqlalchemy_utils import database_exists, create_database\n",
    "from postgres_credentials import alchemycred\n",
    "\n",
    "\n",
    "engine= create_engine(alchemycred)\n",
    "if not database_exists(engine.url):\n",
    "    create_database(engine.url)\n"
   ]
  },
  {
   "cell_type": "code",
   "execution_count": 8,
   "metadata": {},
   "outputs": [
    {
     "data": {
      "text/plain": "221"
     },
     "execution_count": 8,
     "metadata": {},
     "output_type": "execute_result"
    }
   ],
   "source": [
    "#constantly refreshes data when run \n",
    "realtor_df.to_sql(\"county_prices\", engine, if_exists='replace')\n",
    "\n",
    "#Does not refresh data once created. Data remains the same over time. \n",
    "census_df.to_sql(\"census_demographics\", engine, if_exists='fail') "
   ]
  }
 ],
 "metadata": {
  "kernelspec": {
   "display_name": "Python 3.10.6 64-bit",
   "name": "python3106jvsc74a57bd08f9328efe3468e6c370cdfed98702d3986faf748314d5bcec59da615d65baa7a"
  },
  "language_info": {
   "codemirror_mode": {
    "name": "ipython",
    "version": 3
   },
   "file_extension": ".py",
   "mimetype": "text/x-python",
   "name": "python",
   "nbconvert_exporter": "python",
   "pygments_lexer": "ipython3",
   "version": "3.10.6"
  },
  "metadata": {
   "interpreter": {
    "hash": "8f9328efe3468e6c370cdfed98702d3986faf748314d5bcec59da615d65baa7a"
   }
  },
  "orig_nbformat": 2
 },
 "nbformat": 4,
 "nbformat_minor": 2
}