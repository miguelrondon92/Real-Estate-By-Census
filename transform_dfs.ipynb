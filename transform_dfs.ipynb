{
 "cells": [
  {
   "cell_type": "code",
   "execution_count": 142,
   "metadata": {},
   "outputs": [],
   "source": [
    "import pandas as pd\n",
    "from census_api import census_df\n",
    "from scrape_realtor import realtor_df"
   ]
  },
  {
   "cell_type": "code",
   "execution_count": 143,
   "metadata": {},
   "outputs": [
    {
     "data": {
      "text/html": "<div>\n<style scoped>\n    .dataframe tbody tr th:only-of-type {\n        vertical-align: middle;\n    }\n\n    .dataframe tbody tr th {\n        vertical-align: top;\n    }\n\n    .dataframe thead th {\n        text-align: right;\n    }\n</style>\n<table border=\"1\" class=\"dataframe\">\n  <thead>\n    <tr style=\"text-align: right;\">\n      <th></th>\n      <th>State</th>\n      <th>Abbrev</th>\n      <th>Code</th>\n    </tr>\n  </thead>\n  <tbody>\n    <tr>\n      <th>0</th>\n      <td>Alabama</td>\n      <td>Ala.</td>\n      <td>AL</td>\n    </tr>\n    <tr>\n      <th>1</th>\n      <td>Alaska</td>\n      <td>Alaska</td>\n      <td>AK</td>\n    </tr>\n    <tr>\n      <th>2</th>\n      <td>Arizona</td>\n      <td>Ariz.</td>\n      <td>AZ</td>\n    </tr>\n    <tr>\n      <th>3</th>\n      <td>Arkansas</td>\n      <td>Ark.</td>\n      <td>AR</td>\n    </tr>\n    <tr>\n      <th>4</th>\n      <td>California</td>\n      <td>Calif.</td>\n      <td>CA</td>\n    </tr>\n    <tr>\n      <th>5</th>\n      <td>Colorado</td>\n      <td>Colo.</td>\n      <td>CO</td>\n    </tr>\n    <tr>\n      <th>6</th>\n      <td>Connecticut</td>\n      <td>Conn.</td>\n      <td>CT</td>\n    </tr>\n    <tr>\n      <th>7</th>\n      <td>Delaware</td>\n      <td>Del.</td>\n      <td>DE</td>\n    </tr>\n    <tr>\n      <th>8</th>\n      <td>District of Columbia</td>\n      <td>D.C.</td>\n      <td>DC</td>\n    </tr>\n    <tr>\n      <th>9</th>\n      <td>Florida</td>\n      <td>Fla.</td>\n      <td>FL</td>\n    </tr>\n    <tr>\n      <th>10</th>\n      <td>Georgia</td>\n      <td>Ga.</td>\n      <td>GA</td>\n    </tr>\n    <tr>\n      <th>11</th>\n      <td>Hawaii</td>\n      <td>Hawaii</td>\n      <td>HI</td>\n    </tr>\n    <tr>\n      <th>12</th>\n      <td>Idaho</td>\n      <td>Idaho</td>\n      <td>ID</td>\n    </tr>\n    <tr>\n      <th>13</th>\n      <td>Illinois</td>\n      <td>Ill.</td>\n      <td>IL</td>\n    </tr>\n    <tr>\n      <th>14</th>\n      <td>Indiana</td>\n      <td>Ind.</td>\n      <td>IN</td>\n    </tr>\n    <tr>\n      <th>15</th>\n      <td>Iowa</td>\n      <td>Iowa</td>\n      <td>IA</td>\n    </tr>\n    <tr>\n      <th>16</th>\n      <td>Kansas</td>\n      <td>Kans.</td>\n      <td>KS</td>\n    </tr>\n    <tr>\n      <th>17</th>\n      <td>Kentucky</td>\n      <td>Ky.</td>\n      <td>KY</td>\n    </tr>\n    <tr>\n      <th>18</th>\n      <td>Louisiana</td>\n      <td>La.</td>\n      <td>LA</td>\n    </tr>\n    <tr>\n      <th>19</th>\n      <td>Maine</td>\n      <td>Maine</td>\n      <td>ME</td>\n    </tr>\n    <tr>\n      <th>20</th>\n      <td>Maryland</td>\n      <td>Md.</td>\n      <td>MD</td>\n    </tr>\n    <tr>\n      <th>21</th>\n      <td>Massachusetts</td>\n      <td>Mass.</td>\n      <td>MA</td>\n    </tr>\n    <tr>\n      <th>22</th>\n      <td>Michigan</td>\n      <td>Mich.</td>\n      <td>MI</td>\n    </tr>\n    <tr>\n      <th>23</th>\n      <td>Minnesota</td>\n      <td>Minn.</td>\n      <td>MN</td>\n    </tr>\n    <tr>\n      <th>24</th>\n      <td>Mississippi</td>\n      <td>Miss.</td>\n      <td>MS</td>\n    </tr>\n    <tr>\n      <th>25</th>\n      <td>Missouri</td>\n      <td>Mo.</td>\n      <td>MO</td>\n    </tr>\n    <tr>\n      <th>26</th>\n      <td>Montana</td>\n      <td>Mont.</td>\n      <td>MT</td>\n    </tr>\n    <tr>\n      <th>27</th>\n      <td>Nebraska</td>\n      <td>Nebr.</td>\n      <td>NE</td>\n    </tr>\n    <tr>\n      <th>28</th>\n      <td>Nevada</td>\n      <td>Nev.</td>\n      <td>NV</td>\n    </tr>\n    <tr>\n      <th>29</th>\n      <td>New Hampshire</td>\n      <td>N.H.</td>\n      <td>NH</td>\n    </tr>\n    <tr>\n      <th>30</th>\n      <td>New Jersey</td>\n      <td>N.J.</td>\n      <td>NJ</td>\n    </tr>\n    <tr>\n      <th>31</th>\n      <td>New Mexico</td>\n      <td>N.M.</td>\n      <td>NM</td>\n    </tr>\n    <tr>\n      <th>32</th>\n      <td>New York</td>\n      <td>N.Y.</td>\n      <td>NY</td>\n    </tr>\n    <tr>\n      <th>33</th>\n      <td>North Carolina</td>\n      <td>N.C.</td>\n      <td>NC</td>\n    </tr>\n    <tr>\n      <th>34</th>\n      <td>North Dakota</td>\n      <td>N.D.</td>\n      <td>ND</td>\n    </tr>\n    <tr>\n      <th>35</th>\n      <td>Ohio</td>\n      <td>Ohio</td>\n      <td>OH</td>\n    </tr>\n    <tr>\n      <th>36</th>\n      <td>Oklahoma</td>\n      <td>Okla.</td>\n      <td>OK</td>\n    </tr>\n    <tr>\n      <th>37</th>\n      <td>Oregon</td>\n      <td>Ore.</td>\n      <td>OR</td>\n    </tr>\n    <tr>\n      <th>38</th>\n      <td>Pennsylvania</td>\n      <td>Pa.</td>\n      <td>PA</td>\n    </tr>\n    <tr>\n      <th>39</th>\n      <td>Rhode Island</td>\n      <td>R.I.</td>\n      <td>RI</td>\n    </tr>\n    <tr>\n      <th>40</th>\n      <td>South Carolina</td>\n      <td>S.C.</td>\n      <td>SC</td>\n    </tr>\n    <tr>\n      <th>41</th>\n      <td>South Dakota</td>\n      <td>S.D.</td>\n      <td>SD</td>\n    </tr>\n    <tr>\n      <th>42</th>\n      <td>Tennessee</td>\n      <td>Tenn.</td>\n      <td>TN</td>\n    </tr>\n    <tr>\n      <th>43</th>\n      <td>Texas</td>\n      <td>Tex.</td>\n      <td>TX</td>\n    </tr>\n    <tr>\n      <th>44</th>\n      <td>Utah</td>\n      <td>Utah</td>\n      <td>UT</td>\n    </tr>\n    <tr>\n      <th>45</th>\n      <td>Vermont</td>\n      <td>Vt.</td>\n      <td>VT</td>\n    </tr>\n    <tr>\n      <th>46</th>\n      <td>Virginia</td>\n      <td>Va.</td>\n      <td>VA</td>\n    </tr>\n    <tr>\n      <th>47</th>\n      <td>Washington</td>\n      <td>Wash.</td>\n      <td>WA</td>\n    </tr>\n    <tr>\n      <th>48</th>\n      <td>West Virginia</td>\n      <td>W.Va.</td>\n      <td>WV</td>\n    </tr>\n    <tr>\n      <th>49</th>\n      <td>Wisconsin</td>\n      <td>Wis.</td>\n      <td>WI</td>\n    </tr>\n    <tr>\n      <th>50</th>\n      <td>Wyoming</td>\n      <td>Wyo.</td>\n      <td>WY</td>\n    </tr>\n  </tbody>\n</table>\n</div>",
      "text/plain": "                   State  Abbrev Code\n0                Alabama    Ala.   AL\n1                 Alaska  Alaska   AK\n2                Arizona   Ariz.   AZ\n3               Arkansas    Ark.   AR\n4             California  Calif.   CA\n5               Colorado   Colo.   CO\n6            Connecticut   Conn.   CT\n7               Delaware    Del.   DE\n8   District of Columbia    D.C.   DC\n9                Florida    Fla.   FL\n10               Georgia     Ga.   GA\n11                Hawaii  Hawaii   HI\n12                 Idaho   Idaho   ID\n13              Illinois    Ill.   IL\n14               Indiana    Ind.   IN\n15                  Iowa    Iowa   IA\n16                Kansas   Kans.   KS\n17              Kentucky     Ky.   KY\n18             Louisiana     La.   LA\n19                 Maine   Maine   ME\n20              Maryland     Md.   MD\n21         Massachusetts   Mass.   MA\n22              Michigan   Mich.   MI\n23             Minnesota   Minn.   MN\n24           Mississippi   Miss.   MS\n25              Missouri     Mo.   MO\n26               Montana   Mont.   MT\n27              Nebraska   Nebr.   NE\n28                Nevada    Nev.   NV\n29         New Hampshire    N.H.   NH\n30            New Jersey    N.J.   NJ\n31            New Mexico    N.M.   NM\n32              New York    N.Y.   NY\n33        North Carolina    N.C.   NC\n34          North Dakota    N.D.   ND\n35                  Ohio    Ohio   OH\n36              Oklahoma   Okla.   OK\n37                Oregon    Ore.   OR\n38          Pennsylvania     Pa.   PA\n39          Rhode Island    R.I.   RI\n40        South Carolina    S.C.   SC\n41          South Dakota    S.D.   SD\n42             Tennessee   Tenn.   TN\n43                 Texas    Tex.   TX\n44                  Utah    Utah   UT\n45               Vermont     Vt.   VT\n46              Virginia     Va.   VA\n47            Washington   Wash.   WA\n48         West Virginia   W.Va.   WV\n49             Wisconsin    Wis.   WI\n50               Wyoming    Wyo.   WY"
     },
     "execution_count": 143,
     "metadata": {},
     "output_type": "execute_result"
    }
   ],
   "source": [
    "state_abrevs=pd.read_json('state_abrev.json', dtype=\"str\")\n",
    "state_abrevs"
   ]
  },
  {
   "cell_type": "code",
   "execution_count": 144,
   "metadata": {},
   "outputs": [
    {
     "data": {
      "text/html": "<div>\n<style scoped>\n    .dataframe tbody tr th:only-of-type {\n        vertical-align: middle;\n    }\n\n    .dataframe tbody tr th {\n        vertical-align: top;\n    }\n\n    .dataframe thead th {\n        text-align: right;\n    }\n</style>\n<table border=\"1\" class=\"dataframe\">\n  <thead>\n    <tr style=\"text-align: right;\">\n      <th></th>\n      <th>County</th>\n      <th>State</th>\n      <th>month_date_yyyymm</th>\n      <th>county_fips</th>\n      <th>median_listing_price</th>\n      <th>active_listing_count</th>\n      <th>median_days_on_market</th>\n      <th>new_listing_count</th>\n      <th>price_increased_count</th>\n      <th>price_reduced_count</th>\n      <th>pending_listing_count</th>\n      <th>median_listing_price_per_square_foot</th>\n      <th>median_square_feet</th>\n      <th>average_listing_price</th>\n      <th>total_listing_count</th>\n      <th>pending_ratio</th>\n      <th>quality_flag</th>\n      <th>Code</th>\n    </tr>\n  </thead>\n  <tbody>\n    <tr>\n      <th>0</th>\n      <td>Burleigh</td>\n      <td>ND</td>\n      <td>202208</td>\n      <td>38015</td>\n      <td>382450</td>\n      <td>225</td>\n      <td>39</td>\n      <td>136</td>\n      <td>0</td>\n      <td>80</td>\n      <td>238</td>\n      <td>170</td>\n      <td>2212</td>\n      <td>464139</td>\n      <td>464</td>\n      <td>1.0578</td>\n      <td>0</td>\n      <td>ND</td>\n    </tr>\n    <tr>\n      <th>1</th>\n      <td>Walthall</td>\n      <td>MS</td>\n      <td>202208</td>\n      <td>28147</td>\n      <td>169250</td>\n      <td>13</td>\n      <td>51</td>\n      <td>4</td>\n      <td>0</td>\n      <td>4</td>\n      <td>2</td>\n      <td>92</td>\n      <td>2181</td>\n      <td>251766</td>\n      <td>15</td>\n      <td>0.1538</td>\n      <td>1</td>\n      <td>MS</td>\n    </tr>\n    <tr>\n      <th>2</th>\n      <td>Pulaski</td>\n      <td>IL</td>\n      <td>202208</td>\n      <td>17153</td>\n      <td>84700</td>\n      <td>9</td>\n      <td>67</td>\n      <td>4</td>\n      <td>0</td>\n      <td>4</td>\n      <td>4</td>\n      <td>62</td>\n      <td>1474</td>\n      <td>87918</td>\n      <td>13</td>\n      <td>0.4444</td>\n      <td>0</td>\n      <td>IL</td>\n    </tr>\n    <tr>\n      <th>3</th>\n      <td>Petersburg city</td>\n      <td>VA</td>\n      <td>202208</td>\n      <td>51730</td>\n      <td>194995</td>\n      <td>117</td>\n      <td>36</td>\n      <td>84</td>\n      <td>4</td>\n      <td>60</td>\n      <td>125</td>\n      <td>140</td>\n      <td>1406</td>\n      <td>217184</td>\n      <td>243</td>\n      <td>1.0684</td>\n      <td>1</td>\n      <td>VA</td>\n    </tr>\n    <tr>\n      <th>4</th>\n      <td>Houghton</td>\n      <td>MI</td>\n      <td>202208</td>\n      <td>26061</td>\n      <td>254450</td>\n      <td>50</td>\n      <td>37</td>\n      <td>36</td>\n      <td>0</td>\n      <td>16</td>\n      <td>42</td>\n      <td>122</td>\n      <td>1761</td>\n      <td>352869</td>\n      <td>95</td>\n      <td>0.84</td>\n      <td>1</td>\n      <td>MI</td>\n    </tr>\n  </tbody>\n</table>\n</div>",
      "text/plain": "            County State month_date_yyyymm county_fips  median_listing_price  \\\n0         Burleigh    ND            202208       38015                382450   \n1         Walthall    MS            202208       28147                169250   \n2          Pulaski    IL            202208       17153                 84700   \n3  Petersburg city    VA            202208       51730                194995   \n4         Houghton    MI            202208       26061                254450   \n\n   active_listing_count  median_days_on_market  new_listing_count  \\\n0                   225                     39                136   \n1                    13                     51                  4   \n2                     9                     67                  4   \n3                   117                     36                 84   \n4                    50                     37                 36   \n\n   price_increased_count  price_reduced_count  pending_listing_count  \\\n0                      0                   80                    238   \n1                      0                    4                      2   \n2                      0                    4                      4   \n3                      4                   60                    125   \n4                      0                   16                     42   \n\n   median_listing_price_per_square_foot  median_square_feet  \\\n0                                   170                2212   \n1                                    92                2181   \n2                                    62                1474   \n3                                   140                1406   \n4                                   122                1761   \n\n   average_listing_price  total_listing_count  pending_ratio  quality_flag  \\\n0                 464139                  464         1.0578             0   \n1                 251766                   15         0.1538             1   \n2                  87918                   13         0.4444             0   \n3                 217184                  243         1.0684             1   \n4                 352869                   95           0.84             1   \n\n  Code  \n0   ND  \n1   MS  \n2   IL  \n3   VA  \n4   MI  "
     },
     "execution_count": 144,
     "metadata": {},
     "output_type": "execute_result"
    }
   ],
   "source": [
    "realtor_df[\"State\"] = realtor_df[\"State\"].str.upper().str.replace(\" \", \"\")\n",
    "realtor_df[\"County\"] = realtor_df[\"County\"].str.capitalize()\n",
    "realtor_df.head()\n",
    "\n"
   ]
  },
  {
   "cell_type": "code",
   "execution_count": 145,
   "metadata": {},
   "outputs": [
    {
     "data": {
      "text/html": "<div>\n<style scoped>\n    .dataframe tbody tr th:only-of-type {\n        vertical-align: middle;\n    }\n\n    .dataframe tbody tr th {\n        vertical-align: top;\n    }\n\n    .dataframe thead th {\n        text-align: right;\n    }\n</style>\n<table border=\"1\" class=\"dataframe\">\n  <thead>\n    <tr style=\"text-align: right;\">\n      <th></th>\n      <th>County</th>\n      <th>State_x</th>\n      <th>month_date_yyyymm</th>\n      <th>county_fips</th>\n      <th>median_listing_price</th>\n      <th>active_listing_count</th>\n      <th>median_days_on_market</th>\n      <th>new_listing_count</th>\n      <th>price_increased_count</th>\n      <th>price_reduced_count</th>\n      <th>...</th>\n      <th>median_listing_price_per_square_foot</th>\n      <th>median_square_feet</th>\n      <th>average_listing_price</th>\n      <th>total_listing_count</th>\n      <th>pending_ratio</th>\n      <th>quality_flag</th>\n      <th>Code_x</th>\n      <th>State_y</th>\n      <th>Abbrev</th>\n      <th>Code_y</th>\n    </tr>\n  </thead>\n  <tbody>\n    <tr>\n      <th>0</th>\n      <td>Burleigh</td>\n      <td>ND</td>\n      <td>202208</td>\n      <td>38015</td>\n      <td>382450</td>\n      <td>225</td>\n      <td>39</td>\n      <td>136</td>\n      <td>0</td>\n      <td>80</td>\n      <td>...</td>\n      <td>170</td>\n      <td>2212</td>\n      <td>464139</td>\n      <td>464</td>\n      <td>1.0578</td>\n      <td>0</td>\n      <td>ND</td>\n      <td>North Dakota</td>\n      <td>N.D.</td>\n      <td>ND</td>\n    </tr>\n    <tr>\n      <th>1</th>\n      <td>Walthall</td>\n      <td>MS</td>\n      <td>202208</td>\n      <td>28147</td>\n      <td>169250</td>\n      <td>13</td>\n      <td>51</td>\n      <td>4</td>\n      <td>0</td>\n      <td>4</td>\n      <td>...</td>\n      <td>92</td>\n      <td>2181</td>\n      <td>251766</td>\n      <td>15</td>\n      <td>0.1538</td>\n      <td>1</td>\n      <td>MS</td>\n      <td>Mississippi</td>\n      <td>Miss.</td>\n      <td>MS</td>\n    </tr>\n    <tr>\n      <th>2</th>\n      <td>Pulaski</td>\n      <td>IL</td>\n      <td>202208</td>\n      <td>17153</td>\n      <td>84700</td>\n      <td>9</td>\n      <td>67</td>\n      <td>4</td>\n      <td>0</td>\n      <td>4</td>\n      <td>...</td>\n      <td>62</td>\n      <td>1474</td>\n      <td>87918</td>\n      <td>13</td>\n      <td>0.4444</td>\n      <td>0</td>\n      <td>IL</td>\n      <td>Illinois</td>\n      <td>Ill.</td>\n      <td>IL</td>\n    </tr>\n    <tr>\n      <th>3</th>\n      <td>Petersburg city</td>\n      <td>VA</td>\n      <td>202208</td>\n      <td>51730</td>\n      <td>194995</td>\n      <td>117</td>\n      <td>36</td>\n      <td>84</td>\n      <td>4</td>\n      <td>60</td>\n      <td>...</td>\n      <td>140</td>\n      <td>1406</td>\n      <td>217184</td>\n      <td>243</td>\n      <td>1.0684</td>\n      <td>1</td>\n      <td>VA</td>\n      <td>Virginia</td>\n      <td>Va.</td>\n      <td>VA</td>\n    </tr>\n    <tr>\n      <th>4</th>\n      <td>Houghton</td>\n      <td>MI</td>\n      <td>202208</td>\n      <td>26061</td>\n      <td>254450</td>\n      <td>50</td>\n      <td>37</td>\n      <td>36</td>\n      <td>0</td>\n      <td>16</td>\n      <td>...</td>\n      <td>122</td>\n      <td>1761</td>\n      <td>352869</td>\n      <td>95</td>\n      <td>0.84</td>\n      <td>1</td>\n      <td>MI</td>\n      <td>Michigan</td>\n      <td>Mich.</td>\n      <td>MI</td>\n    </tr>\n    <tr>\n      <th>...</th>\n      <td>...</td>\n      <td>...</td>\n      <td>...</td>\n      <td>...</td>\n      <td>...</td>\n      <td>...</td>\n      <td>...</td>\n      <td>...</td>\n      <td>...</td>\n      <td>...</td>\n      <td>...</td>\n      <td>...</td>\n      <td>...</td>\n      <td>...</td>\n      <td>...</td>\n      <td>...</td>\n      <td>...</td>\n      <td>...</td>\n      <td>...</td>\n      <td>...</td>\n      <td>...</td>\n    </tr>\n    <tr>\n      <th>3101</th>\n      <td>Oneida</td>\n      <td>ID</td>\n      <td>202208</td>\n      <td>16071</td>\n      <td>279900</td>\n      <td>26</td>\n      <td>59</td>\n      <td>8</td>\n      <td>0</td>\n      <td>12</td>\n      <td>...</td>\n      <td>159</td>\n      <td>2110</td>\n      <td>423895</td>\n      <td>37</td>\n      <td>0.3462</td>\n      <td>1</td>\n      <td>ID</td>\n      <td>Idaho</td>\n      <td>Idaho</td>\n      <td>ID</td>\n    </tr>\n    <tr>\n      <th>3102</th>\n      <td>St. joseph</td>\n      <td>MI</td>\n      <td>202208</td>\n      <td>26149</td>\n      <td>232000</td>\n      <td>103</td>\n      <td>42</td>\n      <td>64</td>\n      <td>0</td>\n      <td>52</td>\n      <td>...</td>\n      <td>128</td>\n      <td>1850</td>\n      <td>305506</td>\n      <td>204</td>\n      <td>0.9806</td>\n      <td>0</td>\n      <td>MI</td>\n      <td>Michigan</td>\n      <td>Mich.</td>\n      <td>MI</td>\n    </tr>\n    <tr>\n      <th>3103</th>\n      <td>Wheeler</td>\n      <td>TX</td>\n      <td>202208</td>\n      <td>48483</td>\n      <td>139900</td>\n      <td>20</td>\n      <td>45</td>\n      <td>8</td>\n      <td>0</td>\n      <td>0</td>\n      <td>...</td>\n      <td>99</td>\n      <td>1414</td>\n      <td>139790</td>\n      <td>29</td>\n      <td>0.45</td>\n      <td>0</td>\n      <td>TX</td>\n      <td>Texas</td>\n      <td>Tex.</td>\n      <td>TX</td>\n    </tr>\n    <tr>\n      <th>3104</th>\n      <td>Christian</td>\n      <td>KY</td>\n      <td>202208</td>\n      <td>21047</td>\n      <td>195000</td>\n      <td>85</td>\n      <td>32</td>\n      <td>80</td>\n      <td>0</td>\n      <td>36</td>\n      <td>...</td>\n      <td>126</td>\n      <td>1599</td>\n      <td>217868</td>\n      <td>195</td>\n      <td>1.2941</td>\n      <td>0</td>\n      <td>KY</td>\n      <td>Kentucky</td>\n      <td>Ky.</td>\n      <td>KY</td>\n    </tr>\n    <tr>\n      <th>3105</th>\n      <td>Charles</td>\n      <td>MD</td>\n      <td>202208</td>\n      <td>24017</td>\n      <td>482450</td>\n      <td>366</td>\n      <td>34</td>\n      <td>272</td>\n      <td>24</td>\n      <td>184</td>\n      <td>...</td>\n      <td>203</td>\n      <td>2296</td>\n      <td>508338</td>\n      <td>708</td>\n      <td>0.929</td>\n      <td>0</td>\n      <td>MD</td>\n      <td>Maryland</td>\n      <td>Md.</td>\n      <td>MD</td>\n    </tr>\n  </tbody>\n</table>\n<p>3106 rows × 21 columns</p>\n</div>",
      "text/plain": "               County State_x month_date_yyyymm county_fips  \\\n0            Burleigh      ND            202208       38015   \n1            Walthall      MS            202208       28147   \n2             Pulaski      IL            202208       17153   \n3     Petersburg city      VA            202208       51730   \n4            Houghton      MI            202208       26061   \n...               ...     ...               ...         ...   \n3101           Oneida      ID            202208       16071   \n3102       St. joseph      MI            202208       26149   \n3103          Wheeler      TX            202208       48483   \n3104        Christian      KY            202208       21047   \n3105          Charles      MD            202208       24017   \n\n      median_listing_price  active_listing_count  median_days_on_market  \\\n0                   382450                   225                     39   \n1                   169250                    13                     51   \n2                    84700                     9                     67   \n3                   194995                   117                     36   \n4                   254450                    50                     37   \n...                    ...                   ...                    ...   \n3101                279900                    26                     59   \n3102                232000                   103                     42   \n3103                139900                    20                     45   \n3104                195000                    85                     32   \n3105                482450                   366                     34   \n\n      new_listing_count  price_increased_count  price_reduced_count  ...  \\\n0                   136                      0                   80  ...   \n1                     4                      0                    4  ...   \n2                     4                      0                    4  ...   \n3                    84                      4                   60  ...   \n4                    36                      0                   16  ...   \n...                 ...                    ...                  ...  ...   \n3101                  8                      0                   12  ...   \n3102                 64                      0                   52  ...   \n3103                  8                      0                    0  ...   \n3104                 80                      0                   36  ...   \n3105                272                     24                  184  ...   \n\n      median_listing_price_per_square_foot  median_square_feet  \\\n0                                      170                2212   \n1                                       92                2181   \n2                                       62                1474   \n3                                      140                1406   \n4                                      122                1761   \n...                                    ...                 ...   \n3101                                   159                2110   \n3102                                   128                1850   \n3103                                    99                1414   \n3104                                   126                1599   \n3105                                   203                2296   \n\n      average_listing_price  total_listing_count  pending_ratio  quality_flag  \\\n0                    464139                  464         1.0578             0   \n1                    251766                   15         0.1538             1   \n2                     87918                   13         0.4444             0   \n3                    217184                  243         1.0684             1   \n4                    352869                   95           0.84             1   \n...                     ...                  ...            ...           ...   \n3101                 423895                   37         0.3462             1   \n3102                 305506                  204         0.9806             0   \n3103                 139790                   29           0.45             0   \n3104                 217868                  195         1.2941             0   \n3105                 508338                  708          0.929             0   \n\n      Code_x       State_y Abbrev Code_y  \n0         ND  North Dakota   N.D.     ND  \n1         MS   Mississippi  Miss.     MS  \n2         IL      Illinois   Ill.     IL  \n3         VA      Virginia    Va.     VA  \n4         MI      Michigan  Mich.     MI  \n...      ...           ...    ...    ...  \n3101      ID         Idaho  Idaho     ID  \n3102      MI      Michigan  Mich.     MI  \n3103      TX         Texas   Tex.     TX  \n3104      KY      Kentucky    Ky.     KY  \n3105      MD      Maryland    Md.     MD  \n\n[3106 rows x 21 columns]"
     },
     "execution_count": 145,
     "metadata": {},
     "output_type": "execute_result"
    }
   ],
   "source": [
    "realtor_df= pd.merge(realtor_df, state_abrevs, how='left', left_on=\"State\", right_on=\"Code\")\n",
    "realtor_df\n"
   ]
  },
  {
   "cell_type": "code",
   "execution_count": 146,
   "metadata": {},
   "outputs": [
    {
     "name": "stdout",
     "output_type": "stream",
     "text": [
      "     County     State  Total:  Total:Population of one race:  \\\n",
      "0  Autauga    Alabama   58805                          55648   \n",
      "1  Baldwin    Alabama  231767                         216743   \n",
      "2  Barbour    Alabama   25223                          24523   \n",
      "3     Bibb    Alabama   22293                          21534   \n",
      "4   Blount    Alabama   59134                          55478   \n",
      "\n",
      "   Total:Population of one race:White alone  \\\n",
      "0                                     42160   \n",
      "1                                    189399   \n",
      "2                                     11317   \n",
      "3                                     16555   \n",
      "4                                     50663   \n",
      "\n",
      "   Total:Population of one race:Black or African American alone  \\\n",
      "0                                              11445              \n",
      "1                                              18217              \n",
      "2                                              11933              \n",
      "3                                               4413              \n",
      "4                                                845              \n",
      "\n",
      "   Total:Population of one race:American Indian and Alaska Native alone  \\\n",
      "0                                                217                      \n",
      "1                                               1582                      \n",
      "2                                                116                      \n",
      "3                                                 60                      \n",
      "4                                                337                      \n",
      "\n",
      "   Total:Population of one race:Asian alone  \\\n",
      "0                                       881   \n",
      "1                                      2067   \n",
      "2                                       117   \n",
      "3                                        32   \n",
      "4                                       178   \n",
      "\n",
      "   Total:Population of one race:Native Hawaiian and Other Pacific Islander alone  \\\n",
      "0                                                 35                               \n",
      "1                                                143                               \n",
      "2                                                  1                               \n",
      "3                                                  9                               \n",
      "4                                                 24                               \n",
      "\n",
      "   Total:Population of one race:Some Other Race alone  \\\n",
      "0                                                910    \n",
      "1                                               5335    \n",
      "2                                               1039    \n",
      "3                                                465    \n",
      "4                                               3431    \n",
      "\n",
      "   Total:Population of two or more races:  Total:Hispanic or Latino  \n",
      "0                                    3157                      2117  \n",
      "1                                   15024                     12686  \n",
      "2                                     700                      1510  \n",
      "3                                     759                       740  \n",
      "4                                    3656                      5771  \n"
     ]
    }
   ],
   "source": [
    "census_df['County'] = census_df['County'].str.replace(\"County\", \"\")\n",
    "\n",
    "print(census_df.head())\n"
   ]
  },
  {
   "cell_type": "code",
   "execution_count": null,
   "metadata": {},
   "outputs": [],
   "source": []
  }
 ],
 "metadata": {
  "kernelspec": {
   "display_name": "Python 3.10.6 64-bit",
   "name": "python3106jvsc74a57bd08f9328efe3468e6c370cdfed98702d3986faf748314d5bcec59da615d65baa7a"
  },
  "language_info": {
   "codemirror_mode": {
    "name": "ipython",
    "version": 3
   },
   "file_extension": ".py",
   "mimetype": "text/x-python",
   "name": "python",
   "nbconvert_exporter": "python",
   "pygments_lexer": "ipython3",
   "version": "3.10.6"
  },
  "metadata": {
   "interpreter": {
    "hash": "8f9328efe3468e6c370cdfed98702d3986faf748314d5bcec59da615d65baa7a"
   }
  },
  "orig_nbformat": 2
 },
 "nbformat": 4,
 "nbformat_minor": 2
}