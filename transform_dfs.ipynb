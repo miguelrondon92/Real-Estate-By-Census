{
 "cells": [
  {
   "cell_type": "code",
   "execution_count": 1,
   "metadata": {},
   "outputs": [
    {
     "name": "stderr",
     "output_type": "stream",
     "text": [
      "/Users/miguelrondon/Desktop/CODE/Data Projects/Real-Estate-By-Census/scrape_realtor.py:35: ParserWarning: Falling back to the 'python' engine because the 'c' engine does not support skipfooter; you can avoid this warning by specifying engine='python'.\n",
      "  realtor_df = pd.read_csv(\n"
     ]
    }
   ],
   "source": [
    "import pandas as pd\n",
    "import numpy as np\n",
    "from census_api import census_df\n",
    "from scrape_realtor import realtor_df"
   ]
  },
  {
   "cell_type": "code",
   "execution_count": 2,
   "metadata": {},
   "outputs": [],
   "source": [
    "state_abrevs=pd.read_json('state_abrev.json', dtype=\"str\")\n"
   ]
  },
  {
   "cell_type": "code",
   "execution_count": 3,
   "metadata": {},
   "outputs": [],
   "source": [
    "if len(realtor_df[\"month_date_yyyymm\"].unique()) == 1: \n",
    "    realtor_df[\"State\"] = realtor_df[\"State\"].str.upper().str.replace(\" \", \"\")\n",
    "    realtor_df[\"County\"] = realtor_df[\"County\"].str.capitalize()\n",
    "    realtor_df = pd.merge(realtor_df, state_abrevs, how='left',\n",
    "                      left_on=\"State\", right_on=\"Code\")\n",
    "    realtor_df[\"state\"] = realtor_df[\"State_y\"]\n",
    "    realtor_df = realtor_df.drop(['State_x', 'State_y', 'Abbrev'], axis=1)\n",
    "    realtor_df.columns = realtor_df.columns.str.lower()\n",
    "    #as_of_month_year = realtor_df[\"month_date_yyyymm\"][0]\n",
    "else: \n",
    "    raise Exception(\"the realtor dataframe has more than one date in it, it should only have one date. Please review...\") "
   ]
  },
  {
   "cell_type": "code",
   "execution_count": 4,
   "metadata": {},
   "outputs": [],
   "source": [
    "for column in realtor_df:\n",
    "    if realtor_df[column].dtype == pd.StringDtype:\n",
    "        realtor_df[column] = realtor_df[column].str.strip()"
   ]
  },
  {
   "cell_type": "code",
   "execution_count": 5,
   "metadata": {},
   "outputs": [],
   "source": [
    "# import datetime\n",
    "# datetime = datetime.datetime.strptime(\n",
    "#     as_of_month_year, \"%Y%m\").strftime(\"%b_%Y\")\n",
    "\n"
   ]
  },
  {
   "cell_type": "code",
   "execution_count": 5,
   "metadata": {},
   "outputs": [
    {
     "data": {
      "text/html": "<div>\n<style scoped>\n    .dataframe tbody tr th:only-of-type {\n        vertical-align: middle;\n    }\n\n    .dataframe tbody tr th {\n        vertical-align: top;\n    }\n\n    .dataframe thead th {\n        text-align: right;\n    }\n</style>\n<table border=\"1\" class=\"dataframe\">\n  <thead>\n    <tr style=\"text-align: right;\">\n      <th></th>\n      <th>County</th>\n      <th>State</th>\n      <th>Total:</th>\n      <th>Total:Population of one race:</th>\n      <th>Total:Population of one race:White alone</th>\n      <th>Total:Population of one race:Black or African American alone</th>\n      <th>Total:Population of one race:American Indian and Alaska Native alone</th>\n      <th>Total:Population of one race:Asian alone</th>\n      <th>Total:Population of one race:Native Hawaiian and Other Pacific Islander alone</th>\n      <th>Total:Population of one race:Some Other Race alone</th>\n      <th>Total:Population of two or more races:</th>\n      <th>Total:Hispanic or Latino</th>\n    </tr>\n  </thead>\n  <tbody>\n    <tr>\n      <th>0</th>\n      <td>Autauga</td>\n      <td>Alabama</td>\n      <td>58805</td>\n      <td>55648</td>\n      <td>42160</td>\n      <td>11445</td>\n      <td>217</td>\n      <td>881</td>\n      <td>35</td>\n      <td>910</td>\n      <td>3157</td>\n      <td>2117</td>\n    </tr>\n    <tr>\n      <th>1</th>\n      <td>Baldwin</td>\n      <td>Alabama</td>\n      <td>231767</td>\n      <td>216743</td>\n      <td>189399</td>\n      <td>18217</td>\n      <td>1582</td>\n      <td>2067</td>\n      <td>143</td>\n      <td>5335</td>\n      <td>15024</td>\n      <td>12686</td>\n    </tr>\n    <tr>\n      <th>2</th>\n      <td>Barbour</td>\n      <td>Alabama</td>\n      <td>25223</td>\n      <td>24523</td>\n      <td>11317</td>\n      <td>11933</td>\n      <td>116</td>\n      <td>117</td>\n      <td>1</td>\n      <td>1039</td>\n      <td>700</td>\n      <td>1510</td>\n    </tr>\n    <tr>\n      <th>3</th>\n      <td>Bibb</td>\n      <td>Alabama</td>\n      <td>22293</td>\n      <td>21534</td>\n      <td>16555</td>\n      <td>4413</td>\n      <td>60</td>\n      <td>32</td>\n      <td>9</td>\n      <td>465</td>\n      <td>759</td>\n      <td>740</td>\n    </tr>\n    <tr>\n      <th>4</th>\n      <td>Blount</td>\n      <td>Alabama</td>\n      <td>59134</td>\n      <td>55478</td>\n      <td>50663</td>\n      <td>845</td>\n      <td>337</td>\n      <td>178</td>\n      <td>24</td>\n      <td>3431</td>\n      <td>3656</td>\n      <td>5771</td>\n    </tr>\n  </tbody>\n</table>\n</div>",
      "text/plain": "     County     State  Total:  Total:Population of one race:  \\\n0  Autauga    Alabama   58805                          55648   \n1  Baldwin    Alabama  231767                         216743   \n2  Barbour    Alabama   25223                          24523   \n3     Bibb    Alabama   22293                          21534   \n4   Blount    Alabama   59134                          55478   \n\n   Total:Population of one race:White alone  \\\n0                                     42160   \n1                                    189399   \n2                                     11317   \n3                                     16555   \n4                                     50663   \n\n   Total:Population of one race:Black or African American alone  \\\n0                                              11445              \n1                                              18217              \n2                                              11933              \n3                                               4413              \n4                                                845              \n\n   Total:Population of one race:American Indian and Alaska Native alone  \\\n0                                                217                      \n1                                               1582                      \n2                                                116                      \n3                                                 60                      \n4                                                337                      \n\n   Total:Population of one race:Asian alone  \\\n0                                       881   \n1                                      2067   \n2                                       117   \n3                                        32   \n4                                       178   \n\n   Total:Population of one race:Native Hawaiian and Other Pacific Islander alone  \\\n0                                                 35                               \n1                                                143                               \n2                                                  1                               \n3                                                  9                               \n4                                                 24                               \n\n   Total:Population of one race:Some Other Race alone  \\\n0                                                910    \n1                                               5335    \n2                                               1039    \n3                                                465    \n4                                               3431    \n\n   Total:Population of two or more races:  Total:Hispanic or Latino  \n0                                    3157                      2117  \n1                                   15024                     12686  \n2                                     700                      1510  \n3                                     759                       740  \n4                                    3656                      5771  "
     },
     "execution_count": 5,
     "metadata": {},
     "output_type": "execute_result"
    }
   ],
   "source": [
    "census_df['County'] = census_df['County'].str.replace(\"County\", \"\")\n",
    "census_df.head()"
   ]
  },
  {
   "cell_type": "code",
   "execution_count": 6,
   "metadata": {},
   "outputs": [],
   "source": [
    "census_df.columns = census_df.columns.str.lower().str.strip().str.replace(\" \",\n",
    "                                                                      \"_\").str.replace(\":\", \"_\").str.strip(\"_\")\n",
    "\n",
    "for column in census_df:\n",
    "    if census_df[column].dtype == pd.StringDtype:\n",
    "        census_df[column] = census_df[column].str.strip()\n",
    "\n",
    "census_df[\"county\"] = census_df[\"county\"].str.capitalize()\n"
   ]
  },
  {
   "cell_type": "code",
   "execution_count": 7,
   "metadata": {},
   "outputs": [],
   "source": [
    "#edge cases\n",
    "\n",
    "#louisiana parishes, \n",
    "census_df['county'] = np.where(census_df['state'] == 'Louisiana', census_df['county'].str.replace(\" parish\", \"\"), \n",
    "np.where(census_df['state'] == 'Alaska', census_df['county'].str.replace(\" borough\", \"\").str.replace(\" census area\", \"\").str.replace(\" municipality\", \"\").str.replace(\" city and borough\", \"\"), census_df['county']))\n",
    "\n",
    "#other edge cases to be handled later,"
   ]
  },
  {
   "cell_type": "code",
   "execution_count": 9,
   "metadata": {},
   "outputs": [],
   "source": [
    "from sqlalchemy import create_engine \n",
    "from sqlalchemy_utils import database_exists, create_database\n",
    "from postgres_credentials import alchemycred\n",
    "\n",
    "\n",
    "engine= create_engine(alchemycred)\n",
    "if not database_exists(engine.url):\n",
    "    create_database(engine.url)\n"
   ]
  },
  {
   "cell_type": "code",
   "execution_count": 10,
   "metadata": {},
   "outputs": [
    {
     "data": {
      "text/plain": "221"
     },
     "execution_count": 10,
     "metadata": {},
     "output_type": "execute_result"
    }
   ],
   "source": [
    "#constantly refreshes data when run \n",
    "realtor_df.to_sql(\"county_prices\", engine, if_exists='replace')\n",
    "\n",
    "#Does not refresh data once created. Data remains the same over time. \n",
    "census_df.to_sql(\"census_demographics\", engine, if_exists='replace') "
   ]
  }
 ],
 "metadata": {
  "kernelspec": {
   "display_name": "Python 3.10.6 64-bit",
   "name": "python3106jvsc74a57bd08f9328efe3468e6c370cdfed98702d3986faf748314d5bcec59da615d65baa7a"
  },
  "language_info": {
   "codemirror_mode": {
    "name": "ipython",
    "version": 3
   },
   "file_extension": ".py",
   "mimetype": "text/x-python",
   "name": "python",
   "nbconvert_exporter": "python",
   "pygments_lexer": "ipython3",
   "version": "3.10.6"
  },
  "metadata": {
   "interpreter": {
    "hash": "8f9328efe3468e6c370cdfed98702d3986faf748314d5bcec59da615d65baa7a"
   }
  },
  "orig_nbformat": 2
 },
 "nbformat": 4,
 "nbformat_minor": 2
}