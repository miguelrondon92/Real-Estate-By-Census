{
 "cells": [
  {
   "cell_type": "code",
   "execution_count": null,
   "metadata": {},
   "outputs": [],
   "source": [
    "import pandas as pd\n",
    "from scrapy import Selector\n",
    "import requests\n",
    "\n",
    "#url, html, xpath\n",
    "url = \"https://www.realtor.com/research/data/\"\n",
    "html = requests.get(url).text\n",
    "xpath = \"//table[@id = 'supsystic-table-12']//td[@data-cell-id = 'F3']/a/@href\"\n",
    "\n",
    "sel = Selector(text=html)\n",
    "links = sel.xpath(xpath).extract()\n",
    "\n",
    "#ingest data into pandas DF\n",
    "print(\"opening link: \")\n",
    "print(links[0])\n",
    "realtor_df = pd.read_csv(links[0])\n",
    "print(realtor_df)"
   ]
  }
 ],
 "metadata": {
  "kernelspec": {
   "display_name": "Python 3.9.10 64-bit",
   "name": "python3910jvsc74a57bd0aee8b7b246df8f9039afb4144a1f6fd8d2ca17a180786b69acc140d282b71a49"
  },
  "language_info": {
   "name": "python",
   "version": ""
  },
  "metadata": {
   "interpreter": {
    "hash": "aee8b7b246df8f9039afb4144a1f6fd8d2ca17a180786b69acc140d282b71a49"
   }
  },
  "orig_nbformat": 2
 },
 "nbformat": 4,
 "nbformat_minor": 2
}